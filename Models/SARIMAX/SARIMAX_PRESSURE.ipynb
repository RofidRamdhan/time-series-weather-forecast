{
 "cells": [
  {
   "cell_type": "code",
   "execution_count": 1,
   "id": "5d299c3b",
   "metadata": {},
   "outputs": [],
   "source": [
    "import numpy as np\n",
    "import pandas as pd\n",
    "import warnings\n",
    "warnings.filterwarnings(\"ignore\")"
   ]
  },
  {
   "cell_type": "code",
   "execution_count": 2,
   "id": "eaca7c3e",
   "metadata": {},
   "outputs": [],
   "source": [
    "df = pd.read_csv(\"dataset_cuaca_perjam.csv\")"
   ]
  },
  {
   "cell_type": "code",
   "execution_count": 3,
   "id": "879a1fa2",
   "metadata": {},
   "outputs": [
    {
     "data": {
      "text/html": [
       "<div>\n",
       "<style scoped>\n",
       "    .dataframe tbody tr th:only-of-type {\n",
       "        vertical-align: middle;\n",
       "    }\n",
       "\n",
       "    .dataframe tbody tr th {\n",
       "        vertical-align: top;\n",
       "    }\n",
       "\n",
       "    .dataframe thead th {\n",
       "        text-align: right;\n",
       "    }\n",
       "</style>\n",
       "<table border=\"1\" class=\"dataframe\">\n",
       "  <thead>\n",
       "    <tr style=\"text-align: right;\">\n",
       "      <th></th>\n",
       "      <th>YEAR-MONTH-DAY</th>\n",
       "      <th>YEAR</th>\n",
       "      <th>MONTH</th>\n",
       "      <th>DAY</th>\n",
       "      <th>HOUR</th>\n",
       "      <th>T2M</th>\n",
       "      <th>RH2M</th>\n",
       "      <th>PS</th>\n",
       "      <th>WS10M</th>\n",
       "    </tr>\n",
       "  </thead>\n",
       "  <tbody>\n",
       "    <tr>\n",
       "      <th>0</th>\n",
       "      <td>11/30/2013</td>\n",
       "      <td>2013.0</td>\n",
       "      <td>11.0</td>\n",
       "      <td>30.0</td>\n",
       "      <td>7:00:00</td>\n",
       "      <td>27.36</td>\n",
       "      <td>78.94</td>\n",
       "      <td>100.80</td>\n",
       "      <td>3.17</td>\n",
       "    </tr>\n",
       "    <tr>\n",
       "      <th>1</th>\n",
       "      <td>11/30/2013</td>\n",
       "      <td>2013.0</td>\n",
       "      <td>11.0</td>\n",
       "      <td>30.0</td>\n",
       "      <td>8:00:00</td>\n",
       "      <td>28.47</td>\n",
       "      <td>73.19</td>\n",
       "      <td>100.85</td>\n",
       "      <td>2.65</td>\n",
       "    </tr>\n",
       "    <tr>\n",
       "      <th>2</th>\n",
       "      <td>11/30/2013</td>\n",
       "      <td>2013.0</td>\n",
       "      <td>11.0</td>\n",
       "      <td>30.0</td>\n",
       "      <td>9:00:00</td>\n",
       "      <td>29.44</td>\n",
       "      <td>69.56</td>\n",
       "      <td>100.83</td>\n",
       "      <td>2.04</td>\n",
       "    </tr>\n",
       "    <tr>\n",
       "      <th>3</th>\n",
       "      <td>11/30/2013</td>\n",
       "      <td>2013.0</td>\n",
       "      <td>11.0</td>\n",
       "      <td>30.0</td>\n",
       "      <td>10:00:00</td>\n",
       "      <td>30.12</td>\n",
       "      <td>67.38</td>\n",
       "      <td>100.77</td>\n",
       "      <td>1.73</td>\n",
       "    </tr>\n",
       "    <tr>\n",
       "      <th>4</th>\n",
       "      <td>11/30/2013</td>\n",
       "      <td>2013.0</td>\n",
       "      <td>11.0</td>\n",
       "      <td>30.0</td>\n",
       "      <td>11:00:00</td>\n",
       "      <td>30.44</td>\n",
       "      <td>66.38</td>\n",
       "      <td>100.70</td>\n",
       "      <td>1.87</td>\n",
       "    </tr>\n",
       "    <tr>\n",
       "      <th>...</th>\n",
       "      <td>...</td>\n",
       "      <td>...</td>\n",
       "      <td>...</td>\n",
       "      <td>...</td>\n",
       "      <td>...</td>\n",
       "      <td>...</td>\n",
       "      <td>...</td>\n",
       "      <td>...</td>\n",
       "      <td>...</td>\n",
       "    </tr>\n",
       "    <tr>\n",
       "      <th>1048570</th>\n",
       "      <td>--</td>\n",
       "      <td>NaN</td>\n",
       "      <td>NaN</td>\n",
       "      <td>NaN</td>\n",
       "      <td>NaN</td>\n",
       "      <td>NaN</td>\n",
       "      <td>NaN</td>\n",
       "      <td>NaN</td>\n",
       "      <td>NaN</td>\n",
       "    </tr>\n",
       "    <tr>\n",
       "      <th>1048571</th>\n",
       "      <td>--</td>\n",
       "      <td>NaN</td>\n",
       "      <td>NaN</td>\n",
       "      <td>NaN</td>\n",
       "      <td>NaN</td>\n",
       "      <td>NaN</td>\n",
       "      <td>NaN</td>\n",
       "      <td>NaN</td>\n",
       "      <td>NaN</td>\n",
       "    </tr>\n",
       "    <tr>\n",
       "      <th>1048572</th>\n",
       "      <td>--</td>\n",
       "      <td>NaN</td>\n",
       "      <td>NaN</td>\n",
       "      <td>NaN</td>\n",
       "      <td>NaN</td>\n",
       "      <td>NaN</td>\n",
       "      <td>NaN</td>\n",
       "      <td>NaN</td>\n",
       "      <td>NaN</td>\n",
       "    </tr>\n",
       "    <tr>\n",
       "      <th>1048573</th>\n",
       "      <td>--</td>\n",
       "      <td>NaN</td>\n",
       "      <td>NaN</td>\n",
       "      <td>NaN</td>\n",
       "      <td>NaN</td>\n",
       "      <td>NaN</td>\n",
       "      <td>NaN</td>\n",
       "      <td>NaN</td>\n",
       "      <td>NaN</td>\n",
       "    </tr>\n",
       "    <tr>\n",
       "      <th>1048574</th>\n",
       "      <td>--</td>\n",
       "      <td>NaN</td>\n",
       "      <td>NaN</td>\n",
       "      <td>NaN</td>\n",
       "      <td>NaN</td>\n",
       "      <td>NaN</td>\n",
       "      <td>NaN</td>\n",
       "      <td>NaN</td>\n",
       "      <td>NaN</td>\n",
       "    </tr>\n",
       "  </tbody>\n",
       "</table>\n",
       "<p>1048575 rows × 9 columns</p>\n",
       "</div>"
      ],
      "text/plain": [
       "        YEAR-MONTH-DAY    YEAR  MONTH   DAY      HOUR    T2M   RH2M      PS  \\\n",
       "0           11/30/2013  2013.0   11.0  30.0   7:00:00  27.36  78.94  100.80   \n",
       "1           11/30/2013  2013.0   11.0  30.0   8:00:00  28.47  73.19  100.85   \n",
       "2           11/30/2013  2013.0   11.0  30.0   9:00:00  29.44  69.56  100.83   \n",
       "3           11/30/2013  2013.0   11.0  30.0  10:00:00  30.12  67.38  100.77   \n",
       "4           11/30/2013  2013.0   11.0  30.0  11:00:00  30.44  66.38  100.70   \n",
       "...                ...     ...    ...   ...       ...    ...    ...     ...   \n",
       "1048570             --     NaN    NaN   NaN       NaN    NaN    NaN     NaN   \n",
       "1048571             --     NaN    NaN   NaN       NaN    NaN    NaN     NaN   \n",
       "1048572             --     NaN    NaN   NaN       NaN    NaN    NaN     NaN   \n",
       "1048573             --     NaN    NaN   NaN       NaN    NaN    NaN     NaN   \n",
       "1048574             --     NaN    NaN   NaN       NaN    NaN    NaN     NaN   \n",
       "\n",
       "         WS10M  \n",
       "0         3.17  \n",
       "1         2.65  \n",
       "2         2.04  \n",
       "3         1.73  \n",
       "4         1.87  \n",
       "...        ...  \n",
       "1048570    NaN  \n",
       "1048571    NaN  \n",
       "1048572    NaN  \n",
       "1048573    NaN  \n",
       "1048574    NaN  \n",
       "\n",
       "[1048575 rows x 9 columns]"
      ]
     },
     "execution_count": 3,
     "metadata": {},
     "output_type": "execute_result"
    }
   ],
   "source": [
    "df"
   ]
  },
  {
   "cell_type": "code",
   "execution_count": 4,
   "id": "228ede96",
   "metadata": {},
   "outputs": [
    {
     "data": {
      "text/html": [
       "<div>\n",
       "<style scoped>\n",
       "    .dataframe tbody tr th:only-of-type {\n",
       "        vertical-align: middle;\n",
       "    }\n",
       "\n",
       "    .dataframe tbody tr th {\n",
       "        vertical-align: top;\n",
       "    }\n",
       "\n",
       "    .dataframe thead th {\n",
       "        text-align: right;\n",
       "    }\n",
       "</style>\n",
       "<table border=\"1\" class=\"dataframe\">\n",
       "  <thead>\n",
       "    <tr style=\"text-align: right;\">\n",
       "      <th></th>\n",
       "      <th>YEAR</th>\n",
       "      <th>MONTH</th>\n",
       "      <th>DAY</th>\n",
       "      <th>T2M</th>\n",
       "      <th>RH2M</th>\n",
       "      <th>PS</th>\n",
       "      <th>WS10M</th>\n",
       "    </tr>\n",
       "  </thead>\n",
       "  <tbody>\n",
       "    <tr>\n",
       "      <th>count</th>\n",
       "      <td>87672.000000</td>\n",
       "      <td>87672.000000</td>\n",
       "      <td>87672.000000</td>\n",
       "      <td>87672.000000</td>\n",
       "      <td>87672.000000</td>\n",
       "      <td>87672.000000</td>\n",
       "      <td>87672.000000</td>\n",
       "    </tr>\n",
       "    <tr>\n",
       "      <th>mean</th>\n",
       "      <td>2018.414157</td>\n",
       "      <td>6.524854</td>\n",
       "      <td>15.729412</td>\n",
       "      <td>27.466713</td>\n",
       "      <td>81.585563</td>\n",
       "      <td>100.829341</td>\n",
       "      <td>2.976495</td>\n",
       "    </tr>\n",
       "    <tr>\n",
       "      <th>std</th>\n",
       "      <td>2.886282</td>\n",
       "      <td>3.448991</td>\n",
       "      <td>8.801398</td>\n",
       "      <td>1.591940</td>\n",
       "      <td>8.568729</td>\n",
       "      <td>0.170545</td>\n",
       "      <td>1.322424</td>\n",
       "    </tr>\n",
       "    <tr>\n",
       "      <th>min</th>\n",
       "      <td>2013.000000</td>\n",
       "      <td>1.000000</td>\n",
       "      <td>1.000000</td>\n",
       "      <td>22.150000</td>\n",
       "      <td>41.310000</td>\n",
       "      <td>100.220000</td>\n",
       "      <td>0.010000</td>\n",
       "    </tr>\n",
       "    <tr>\n",
       "      <th>25%</th>\n",
       "      <td>2016.000000</td>\n",
       "      <td>4.000000</td>\n",
       "      <td>8.000000</td>\n",
       "      <td>26.290000</td>\n",
       "      <td>76.560000</td>\n",
       "      <td>100.710000</td>\n",
       "      <td>2.040000</td>\n",
       "    </tr>\n",
       "    <tr>\n",
       "      <th>50%</th>\n",
       "      <td>2018.000000</td>\n",
       "      <td>7.000000</td>\n",
       "      <td>16.000000</td>\n",
       "      <td>27.220000</td>\n",
       "      <td>83.810000</td>\n",
       "      <td>100.830000</td>\n",
       "      <td>2.900000</td>\n",
       "    </tr>\n",
       "    <tr>\n",
       "      <th>75%</th>\n",
       "      <td>2021.000000</td>\n",
       "      <td>10.000000</td>\n",
       "      <td>23.000000</td>\n",
       "      <td>28.600000</td>\n",
       "      <td>88.310000</td>\n",
       "      <td>100.950000</td>\n",
       "      <td>3.770000</td>\n",
       "    </tr>\n",
       "    <tr>\n",
       "      <th>max</th>\n",
       "      <td>2023.000000</td>\n",
       "      <td>12.000000</td>\n",
       "      <td>31.000000</td>\n",
       "      <td>34.150000</td>\n",
       "      <td>96.690000</td>\n",
       "      <td>101.440000</td>\n",
       "      <td>9.100000</td>\n",
       "    </tr>\n",
       "  </tbody>\n",
       "</table>\n",
       "</div>"
      ],
      "text/plain": [
       "               YEAR         MONTH           DAY           T2M          RH2M  \\\n",
       "count  87672.000000  87672.000000  87672.000000  87672.000000  87672.000000   \n",
       "mean    2018.414157      6.524854     15.729412     27.466713     81.585563   \n",
       "std        2.886282      3.448991      8.801398      1.591940      8.568729   \n",
       "min     2013.000000      1.000000      1.000000     22.150000     41.310000   \n",
       "25%     2016.000000      4.000000      8.000000     26.290000     76.560000   \n",
       "50%     2018.000000      7.000000     16.000000     27.220000     83.810000   \n",
       "75%     2021.000000     10.000000     23.000000     28.600000     88.310000   \n",
       "max     2023.000000     12.000000     31.000000     34.150000     96.690000   \n",
       "\n",
       "                 PS         WS10M  \n",
       "count  87672.000000  87672.000000  \n",
       "mean     100.829341      2.976495  \n",
       "std        0.170545      1.322424  \n",
       "min      100.220000      0.010000  \n",
       "25%      100.710000      2.040000  \n",
       "50%      100.830000      2.900000  \n",
       "75%      100.950000      3.770000  \n",
       "max      101.440000      9.100000  "
      ]
     },
     "execution_count": 4,
     "metadata": {},
     "output_type": "execute_result"
    }
   ],
   "source": [
    "df.describe()"
   ]
  },
  {
   "cell_type": "code",
   "execution_count": 5,
   "id": "d9660a75",
   "metadata": {},
   "outputs": [],
   "source": [
    "# import matplotlib.pyplot as plt\n",
    "# # plt.bar(df['PS'], height=0.8)"
   ]
  },
  {
   "cell_type": "code",
   "execution_count": 6,
   "id": "cd109b9b",
   "metadata": {},
   "outputs": [],
   "source": [
    "import matplotlib.pyplot as plt"
   ]
  },
  {
   "cell_type": "markdown",
   "id": "cb686348",
   "metadata": {},
   "source": [
    "## PREPROCESSING"
   ]
  },
  {
   "cell_type": "code",
   "execution_count": 7,
   "id": "6e198529",
   "metadata": {},
   "outputs": [],
   "source": [
    "df.dropna(inplace=True)"
   ]
  },
  {
   "cell_type": "code",
   "execution_count": 8,
   "id": "743d5c78",
   "metadata": {},
   "outputs": [],
   "source": [
    "df = df.drop(columns=['YEAR', 'MONTH', 'DAY'], axis=1)"
   ]
  },
  {
   "cell_type": "code",
   "execution_count": 9,
   "id": "b797d167",
   "metadata": {},
   "outputs": [
    {
     "data": {
      "text/plain": [
       "YEAR-MONTH-DAY    0\n",
       "HOUR              0\n",
       "T2M               0\n",
       "RH2M              0\n",
       "PS                0\n",
       "WS10M             0\n",
       "dtype: int64"
      ]
     },
     "execution_count": 9,
     "metadata": {},
     "output_type": "execute_result"
    }
   ],
   "source": [
    "df.isnull().sum()"
   ]
  },
  {
   "cell_type": "code",
   "execution_count": 10,
   "id": "6f6c0788",
   "metadata": {},
   "outputs": [
    {
     "data": {
      "text/plain": [
       "YEAR-MONTH-DAY     object\n",
       "HOUR               object\n",
       "T2M               float64\n",
       "RH2M              float64\n",
       "PS                float64\n",
       "WS10M             float64\n",
       "dtype: object"
      ]
     },
     "execution_count": 10,
     "metadata": {},
     "output_type": "execute_result"
    }
   ],
   "source": [
    "df.dtypes"
   ]
  },
  {
   "cell_type": "code",
   "execution_count": 11,
   "id": "ddbeff5a",
   "metadata": {},
   "outputs": [],
   "source": [
    "df['YEAR-MONTH-DAY'] = pd.to_datetime(df['YEAR-MONTH-DAY'])\n",
    "df['HOUR'] = pd.to_timedelta(df['HOUR'])\n",
    "df['TIME'] = df['YEAR-MONTH-DAY'] + df['HOUR']"
   ]
  },
  {
   "cell_type": "code",
   "execution_count": 12,
   "id": "5a51eacd",
   "metadata": {},
   "outputs": [],
   "source": [
    "del df['YEAR-MONTH-DAY']\n",
    "del df['HOUR']"
   ]
  },
  {
   "cell_type": "code",
   "execution_count": 13,
   "id": "04904af1",
   "metadata": {},
   "outputs": [
    {
     "data": {
      "text/plain": [
       "T2M             float64\n",
       "RH2M            float64\n",
       "PS              float64\n",
       "WS10M           float64\n",
       "TIME     datetime64[ns]\n",
       "dtype: object"
      ]
     },
     "execution_count": 13,
     "metadata": {},
     "output_type": "execute_result"
    }
   ],
   "source": [
    "df.dtypes"
   ]
  },
  {
   "cell_type": "code",
   "execution_count": 14,
   "id": "744309eb",
   "metadata": {},
   "outputs": [],
   "source": [
    "df.set_index(df['TIME'], inplace = True)"
   ]
  },
  {
   "cell_type": "code",
   "execution_count": 15,
   "id": "41cf9faf",
   "metadata": {},
   "outputs": [],
   "source": [
    "# df['T_target'] = df.shift(-1)['T2M']\n",
    "# df['RH_target'] = df.shift(-1)['RH2M']\n",
    "# df['PS_target'] = df.shift(-1)['PS']\n",
    "# df['WS_target'] = df.shift(-1)['WS10M']"
   ]
  },
  {
   "cell_type": "code",
   "execution_count": 16,
   "id": "be000211",
   "metadata": {},
   "outputs": [
    {
     "data": {
      "text/html": [
       "<div>\n",
       "<style scoped>\n",
       "    .dataframe tbody tr th:only-of-type {\n",
       "        vertical-align: middle;\n",
       "    }\n",
       "\n",
       "    .dataframe tbody tr th {\n",
       "        vertical-align: top;\n",
       "    }\n",
       "\n",
       "    .dataframe thead th {\n",
       "        text-align: right;\n",
       "    }\n",
       "</style>\n",
       "<table border=\"1\" class=\"dataframe\">\n",
       "  <thead>\n",
       "    <tr style=\"text-align: right;\">\n",
       "      <th></th>\n",
       "      <th>T2M</th>\n",
       "      <th>RH2M</th>\n",
       "      <th>PS</th>\n",
       "      <th>WS10M</th>\n",
       "      <th>TIME</th>\n",
       "    </tr>\n",
       "    <tr>\n",
       "      <th>TIME</th>\n",
       "      <th></th>\n",
       "      <th></th>\n",
       "      <th></th>\n",
       "      <th></th>\n",
       "      <th></th>\n",
       "    </tr>\n",
       "  </thead>\n",
       "  <tbody>\n",
       "    <tr>\n",
       "      <th>2013-11-30 07:00:00</th>\n",
       "      <td>27.36</td>\n",
       "      <td>78.94</td>\n",
       "      <td>100.80</td>\n",
       "      <td>3.17</td>\n",
       "      <td>2013-11-30 07:00:00</td>\n",
       "    </tr>\n",
       "    <tr>\n",
       "      <th>2013-11-30 08:00:00</th>\n",
       "      <td>28.47</td>\n",
       "      <td>73.19</td>\n",
       "      <td>100.85</td>\n",
       "      <td>2.65</td>\n",
       "      <td>2013-11-30 08:00:00</td>\n",
       "    </tr>\n",
       "    <tr>\n",
       "      <th>2013-11-30 09:00:00</th>\n",
       "      <td>29.44</td>\n",
       "      <td>69.56</td>\n",
       "      <td>100.83</td>\n",
       "      <td>2.04</td>\n",
       "      <td>2013-11-30 09:00:00</td>\n",
       "    </tr>\n",
       "    <tr>\n",
       "      <th>2013-11-30 10:00:00</th>\n",
       "      <td>30.12</td>\n",
       "      <td>67.38</td>\n",
       "      <td>100.77</td>\n",
       "      <td>1.73</td>\n",
       "      <td>2013-11-30 10:00:00</td>\n",
       "    </tr>\n",
       "    <tr>\n",
       "      <th>2013-11-30 11:00:00</th>\n",
       "      <td>30.44</td>\n",
       "      <td>66.38</td>\n",
       "      <td>100.70</td>\n",
       "      <td>1.87</td>\n",
       "      <td>2013-11-30 11:00:00</td>\n",
       "    </tr>\n",
       "  </tbody>\n",
       "</table>\n",
       "</div>"
      ],
      "text/plain": [
       "                       T2M   RH2M      PS  WS10M                TIME\n",
       "TIME                                                                \n",
       "2013-11-30 07:00:00  27.36  78.94  100.80   3.17 2013-11-30 07:00:00\n",
       "2013-11-30 08:00:00  28.47  73.19  100.85   2.65 2013-11-30 08:00:00\n",
       "2013-11-30 09:00:00  29.44  69.56  100.83   2.04 2013-11-30 09:00:00\n",
       "2013-11-30 10:00:00  30.12  67.38  100.77   1.73 2013-11-30 10:00:00\n",
       "2013-11-30 11:00:00  30.44  66.38  100.70   1.87 2013-11-30 11:00:00"
      ]
     },
     "execution_count": 16,
     "metadata": {},
     "output_type": "execute_result"
    }
   ],
   "source": [
    "df.head()"
   ]
  },
  {
   "cell_type": "code",
   "execution_count": 17,
   "id": "d87d92b9",
   "metadata": {},
   "outputs": [],
   "source": [
    "df.dropna(inplace=True)"
   ]
  },
  {
   "cell_type": "code",
   "execution_count": 18,
   "id": "300dc527",
   "metadata": {},
   "outputs": [],
   "source": [
    "# df.sort_index(inplace=True)\n",
    "\n",
    "# start_date = '2021-04-01 09:00:00'\n",
    "# end_date = '2022-05-01 16:00:00'\n"
   ]
  },
  {
   "cell_type": "code",
   "execution_count": 19,
   "id": "b586b28c",
   "metadata": {},
   "outputs": [],
   "source": [
    "del df['TIME']"
   ]
  },
  {
   "cell_type": "code",
   "execution_count": 20,
   "id": "2da9d969",
   "metadata": {},
   "outputs": [
    {
     "data": {
      "text/html": [
       "<div>\n",
       "<style scoped>\n",
       "    .dataframe tbody tr th:only-of-type {\n",
       "        vertical-align: middle;\n",
       "    }\n",
       "\n",
       "    .dataframe tbody tr th {\n",
       "        vertical-align: top;\n",
       "    }\n",
       "\n",
       "    .dataframe thead th {\n",
       "        text-align: right;\n",
       "    }\n",
       "</style>\n",
       "<table border=\"1\" class=\"dataframe\">\n",
       "  <thead>\n",
       "    <tr style=\"text-align: right;\">\n",
       "      <th></th>\n",
       "      <th>T2M</th>\n",
       "      <th>RH2M</th>\n",
       "      <th>PS</th>\n",
       "      <th>WS10M</th>\n",
       "    </tr>\n",
       "    <tr>\n",
       "      <th>TIME</th>\n",
       "      <th></th>\n",
       "      <th></th>\n",
       "      <th></th>\n",
       "      <th></th>\n",
       "    </tr>\n",
       "  </thead>\n",
       "  <tbody>\n",
       "    <tr>\n",
       "      <th>2013-11-30 07:00:00</th>\n",
       "      <td>27.36</td>\n",
       "      <td>78.94</td>\n",
       "      <td>100.80</td>\n",
       "      <td>3.17</td>\n",
       "    </tr>\n",
       "    <tr>\n",
       "      <th>2013-11-30 08:00:00</th>\n",
       "      <td>28.47</td>\n",
       "      <td>73.19</td>\n",
       "      <td>100.85</td>\n",
       "      <td>2.65</td>\n",
       "    </tr>\n",
       "    <tr>\n",
       "      <th>2013-11-30 09:00:00</th>\n",
       "      <td>29.44</td>\n",
       "      <td>69.56</td>\n",
       "      <td>100.83</td>\n",
       "      <td>2.04</td>\n",
       "    </tr>\n",
       "    <tr>\n",
       "      <th>2013-11-30 10:00:00</th>\n",
       "      <td>30.12</td>\n",
       "      <td>67.38</td>\n",
       "      <td>100.77</td>\n",
       "      <td>1.73</td>\n",
       "    </tr>\n",
       "    <tr>\n",
       "      <th>2013-11-30 11:00:00</th>\n",
       "      <td>30.44</td>\n",
       "      <td>66.38</td>\n",
       "      <td>100.70</td>\n",
       "      <td>1.87</td>\n",
       "    </tr>\n",
       "  </tbody>\n",
       "</table>\n",
       "</div>"
      ],
      "text/plain": [
       "                       T2M   RH2M      PS  WS10M\n",
       "TIME                                            \n",
       "2013-11-30 07:00:00  27.36  78.94  100.80   3.17\n",
       "2013-11-30 08:00:00  28.47  73.19  100.85   2.65\n",
       "2013-11-30 09:00:00  29.44  69.56  100.83   2.04\n",
       "2013-11-30 10:00:00  30.12  67.38  100.77   1.73\n",
       "2013-11-30 11:00:00  30.44  66.38  100.70   1.87"
      ]
     },
     "execution_count": 20,
     "metadata": {},
     "output_type": "execute_result"
    }
   ],
   "source": [
    "df.head()"
   ]
  },
  {
   "cell_type": "code",
   "execution_count": 21,
   "id": "fe7f08d5",
   "metadata": {},
   "outputs": [],
   "source": [
    "# df.plot(subplots=True, figsize=(10,4))"
   ]
  },
  {
   "cell_type": "code",
   "execution_count": 22,
   "id": "696c844d",
   "metadata": {},
   "outputs": [
    {
     "data": {
      "text/html": [
       "<div>\n",
       "<style scoped>\n",
       "    .dataframe tbody tr th:only-of-type {\n",
       "        vertical-align: middle;\n",
       "    }\n",
       "\n",
       "    .dataframe tbody tr th {\n",
       "        vertical-align: top;\n",
       "    }\n",
       "\n",
       "    .dataframe thead th {\n",
       "        text-align: right;\n",
       "    }\n",
       "</style>\n",
       "<table border=\"1\" class=\"dataframe\">\n",
       "  <thead>\n",
       "    <tr style=\"text-align: right;\">\n",
       "      <th></th>\n",
       "      <th>T2M</th>\n",
       "      <th>RH2M</th>\n",
       "      <th>PS</th>\n",
       "      <th>WS10M</th>\n",
       "    </tr>\n",
       "    <tr>\n",
       "      <th>TIME</th>\n",
       "      <th></th>\n",
       "      <th></th>\n",
       "      <th></th>\n",
       "      <th></th>\n",
       "    </tr>\n",
       "  </thead>\n",
       "  <tbody>\n",
       "    <tr>\n",
       "      <th>2013-11-30 07:00:00</th>\n",
       "      <td>27.36</td>\n",
       "      <td>78.94</td>\n",
       "      <td>100.80</td>\n",
       "      <td>3.17</td>\n",
       "    </tr>\n",
       "    <tr>\n",
       "      <th>2013-11-30 08:00:00</th>\n",
       "      <td>28.47</td>\n",
       "      <td>73.19</td>\n",
       "      <td>100.85</td>\n",
       "      <td>2.65</td>\n",
       "    </tr>\n",
       "    <tr>\n",
       "      <th>2013-11-30 09:00:00</th>\n",
       "      <td>29.44</td>\n",
       "      <td>69.56</td>\n",
       "      <td>100.83</td>\n",
       "      <td>2.04</td>\n",
       "    </tr>\n",
       "    <tr>\n",
       "      <th>2013-11-30 10:00:00</th>\n",
       "      <td>30.12</td>\n",
       "      <td>67.38</td>\n",
       "      <td>100.77</td>\n",
       "      <td>1.73</td>\n",
       "    </tr>\n",
       "    <tr>\n",
       "      <th>2013-11-30 11:00:00</th>\n",
       "      <td>30.44</td>\n",
       "      <td>66.38</td>\n",
       "      <td>100.70</td>\n",
       "      <td>1.87</td>\n",
       "    </tr>\n",
       "    <tr>\n",
       "      <th>...</th>\n",
       "      <td>...</td>\n",
       "      <td>...</td>\n",
       "      <td>...</td>\n",
       "      <td>...</td>\n",
       "    </tr>\n",
       "    <tr>\n",
       "      <th>2023-12-01 02:00:00</th>\n",
       "      <td>27.05</td>\n",
       "      <td>87.56</td>\n",
       "      <td>100.63</td>\n",
       "      <td>1.50</td>\n",
       "    </tr>\n",
       "    <tr>\n",
       "      <th>2023-12-01 03:00:00</th>\n",
       "      <td>26.88</td>\n",
       "      <td>89.00</td>\n",
       "      <td>100.62</td>\n",
       "      <td>1.87</td>\n",
       "    </tr>\n",
       "    <tr>\n",
       "      <th>2023-12-01 04:00:00</th>\n",
       "      <td>26.82</td>\n",
       "      <td>89.19</td>\n",
       "      <td>100.67</td>\n",
       "      <td>1.86</td>\n",
       "    </tr>\n",
       "    <tr>\n",
       "      <th>2023-12-01 05:00:00</th>\n",
       "      <td>26.73</td>\n",
       "      <td>89.31</td>\n",
       "      <td>100.72</td>\n",
       "      <td>1.75</td>\n",
       "    </tr>\n",
       "    <tr>\n",
       "      <th>2023-12-01 06:00:00</th>\n",
       "      <td>27.15</td>\n",
       "      <td>88.69</td>\n",
       "      <td>100.79</td>\n",
       "      <td>1.62</td>\n",
       "    </tr>\n",
       "  </tbody>\n",
       "</table>\n",
       "<p>87672 rows × 4 columns</p>\n",
       "</div>"
      ],
      "text/plain": [
       "                       T2M   RH2M      PS  WS10M\n",
       "TIME                                            \n",
       "2013-11-30 07:00:00  27.36  78.94  100.80   3.17\n",
       "2013-11-30 08:00:00  28.47  73.19  100.85   2.65\n",
       "2013-11-30 09:00:00  29.44  69.56  100.83   2.04\n",
       "2013-11-30 10:00:00  30.12  67.38  100.77   1.73\n",
       "2013-11-30 11:00:00  30.44  66.38  100.70   1.87\n",
       "...                    ...    ...     ...    ...\n",
       "2023-12-01 02:00:00  27.05  87.56  100.63   1.50\n",
       "2023-12-01 03:00:00  26.88  89.00  100.62   1.87\n",
       "2023-12-01 04:00:00  26.82  89.19  100.67   1.86\n",
       "2023-12-01 05:00:00  26.73  89.31  100.72   1.75\n",
       "2023-12-01 06:00:00  27.15  88.69  100.79   1.62\n",
       "\n",
       "[87672 rows x 4 columns]"
      ]
     },
     "execution_count": 22,
     "metadata": {},
     "output_type": "execute_result"
    }
   ],
   "source": [
    "df"
   ]
  },
  {
   "cell_type": "code",
   "execution_count": 23,
   "id": "3b138c4d",
   "metadata": {},
   "outputs": [],
   "source": [
    "\n",
    "# Q1 = np.percentile(df['PS'], 25)\n",
    "# Q3 = np.percentile(df['PS'], 75)\n",
    "\n",
    "# IQR = Q3 - Q1\n",
    "\n",
    "# lower_fence = Q1 - 1.5 * IQR\n",
    "# upper_fence = Q3 + 1.5 * IQR\n",
    "\n",
    "# outliers = (df['PS'] < lower_fence) | (df['PS'] > upper_fence)\n",
    "# num_outliers = sum(outliers)\n",
    "\n",
    "# print(\"Jumlah outlier:\", num_outliers)\n",
    "\n"
   ]
  },
  {
   "cell_type": "code",
   "execution_count": 24,
   "id": "69c73e85",
   "metadata": {},
   "outputs": [],
   "source": [
    "# import seaborn as sns\n",
    "# def replace_interpolate(df, column):\n",
    "#     sns.boxplot(df[column])\n",
    "#     plt.title(f'Original Box Plot of {column}')\n",
    "#     plt.show()\n",
    "\n",
    "#     Q1 = df[column].quantile(0.25)\n",
    "#     Q3 = df[column].quantile(0.75)\n",
    "\n",
    "#     IQR = Q3 - Q1\n",
    "\n",
    "#     lower_fence = Q1 - 1.5 * IQR\n",
    "#     upper_fence = Q3 + 1.5 * IQR\n",
    "\n",
    "#     outliers = (df[column] < lower_fence) | (df[column] > upper_fence)\n",
    "\n",
    "#     df[column][outliers] = np.nan\n",
    "\n",
    "#     df[column] = df[column].interpolate()\n",
    "\n",
    "#     sns.boxplot(df[column])\n",
    "#     plt.title(f'Box Plot after Replacing Outliers of {column}')\n",
    "#     plt.show()\n",
    "\n",
    "#     return df\n",
    "\n",
    "# df = replace_interpolate(df, 'PS')"
   ]
  },
  {
   "cell_type": "code",
   "execution_count": 25,
   "id": "8e6d24bd",
   "metadata": {},
   "outputs": [],
   "source": [
    "# df.sort_index(inplace=True)\n",
    "# data_range = df.loc['2023-11-01 09:00:00':'2023-12-01 09:00:00']"
   ]
  },
  {
   "cell_type": "code",
   "execution_count": 26,
   "id": "4dfe4982",
   "metadata": {},
   "outputs": [],
   "source": [
    "# df['2021':'2022'].plot(subplots=True, figsize=(20,12))"
   ]
  },
  {
   "cell_type": "code",
   "execution_count": 27,
   "id": "740fef79",
   "metadata": {},
   "outputs": [],
   "source": [
    "# data_range['T2M'].plot()"
   ]
  },
  {
   "cell_type": "markdown",
   "id": "9169536e",
   "metadata": {},
   "source": [
    "## SPLITTING DATA"
   ]
  },
  {
   "cell_type": "code",
   "execution_count": 28,
   "id": "6940be6b",
   "metadata": {},
   "outputs": [],
   "source": [
    "# df = df['2023':]"
   ]
  },
  {
   "cell_type": "code",
   "execution_count": 29,
   "id": "5216cebe",
   "metadata": {},
   "outputs": [],
   "source": [
    "df = df.sort_index()\n",
    "\n",
    "train_percentage = 0.8\n",
    "train_size = int(len(df) * train_percentage)\n",
    "\n",
    "# train_data = df[:train_size].resample('M').mean()\n",
    "# test_data = df[train_size:].resample('M').mean()\n",
    "\n",
    "train_data = df[:train_size]\n",
    "test_data = df[train_size:]"
   ]
  },
  {
   "cell_type": "code",
   "execution_count": 30,
   "id": "a9b2aecb",
   "metadata": {},
   "outputs": [
    {
     "data": {
      "text/plain": [
       "DatetimeIndex(['2013-11-30 07:00:00', '2013-11-30 08:00:00',\n",
       "               '2013-11-30 09:00:00', '2013-11-30 10:00:00',\n",
       "               '2013-11-30 11:00:00', '2013-11-30 12:00:00',\n",
       "               '2013-11-30 13:00:00', '2013-11-30 14:00:00',\n",
       "               '2013-11-30 15:00:00', '2013-11-30 16:00:00',\n",
       "               ...\n",
       "               '2023-11-30 21:00:00', '2023-11-30 22:00:00',\n",
       "               '2023-11-30 23:00:00', '2023-12-01 00:00:00',\n",
       "               '2023-12-01 01:00:00', '2023-12-01 02:00:00',\n",
       "               '2023-12-01 03:00:00', '2023-12-01 04:00:00',\n",
       "               '2023-12-01 05:00:00', '2023-12-01 06:00:00'],\n",
       "              dtype='datetime64[ns]', name='TIME', length=87672, freq=None)"
      ]
     },
     "execution_count": 30,
     "metadata": {},
     "output_type": "execute_result"
    }
   ],
   "source": [
    "df.index"
   ]
  },
  {
   "cell_type": "code",
   "execution_count": 31,
   "id": "a9805a62",
   "metadata": {},
   "outputs": [
    {
     "data": {
      "text/html": [
       "<div>\n",
       "<style scoped>\n",
       "    .dataframe tbody tr th:only-of-type {\n",
       "        vertical-align: middle;\n",
       "    }\n",
       "\n",
       "    .dataframe tbody tr th {\n",
       "        vertical-align: top;\n",
       "    }\n",
       "\n",
       "    .dataframe thead th {\n",
       "        text-align: right;\n",
       "    }\n",
       "</style>\n",
       "<table border=\"1\" class=\"dataframe\">\n",
       "  <thead>\n",
       "    <tr style=\"text-align: right;\">\n",
       "      <th></th>\n",
       "      <th>T2M</th>\n",
       "      <th>RH2M</th>\n",
       "      <th>PS</th>\n",
       "      <th>WS10M</th>\n",
       "    </tr>\n",
       "    <tr>\n",
       "      <th>TIME</th>\n",
       "      <th></th>\n",
       "      <th></th>\n",
       "      <th></th>\n",
       "      <th></th>\n",
       "    </tr>\n",
       "  </thead>\n",
       "  <tbody>\n",
       "    <tr>\n",
       "      <th>2013-11-30 07:00:00</th>\n",
       "      <td>27.36</td>\n",
       "      <td>78.94</td>\n",
       "      <td>100.80</td>\n",
       "      <td>3.17</td>\n",
       "    </tr>\n",
       "    <tr>\n",
       "      <th>2013-11-30 08:00:00</th>\n",
       "      <td>28.47</td>\n",
       "      <td>73.19</td>\n",
       "      <td>100.85</td>\n",
       "      <td>2.65</td>\n",
       "    </tr>\n",
       "    <tr>\n",
       "      <th>2013-11-30 09:00:00</th>\n",
       "      <td>29.44</td>\n",
       "      <td>69.56</td>\n",
       "      <td>100.83</td>\n",
       "      <td>2.04</td>\n",
       "    </tr>\n",
       "    <tr>\n",
       "      <th>2013-11-30 10:00:00</th>\n",
       "      <td>30.12</td>\n",
       "      <td>67.38</td>\n",
       "      <td>100.77</td>\n",
       "      <td>1.73</td>\n",
       "    </tr>\n",
       "    <tr>\n",
       "      <th>2013-11-30 11:00:00</th>\n",
       "      <td>30.44</td>\n",
       "      <td>66.38</td>\n",
       "      <td>100.70</td>\n",
       "      <td>1.87</td>\n",
       "    </tr>\n",
       "    <tr>\n",
       "      <th>...</th>\n",
       "      <td>...</td>\n",
       "      <td>...</td>\n",
       "      <td>...</td>\n",
       "      <td>...</td>\n",
       "    </tr>\n",
       "    <tr>\n",
       "      <th>2023-12-01 02:00:00</th>\n",
       "      <td>27.05</td>\n",
       "      <td>87.56</td>\n",
       "      <td>100.63</td>\n",
       "      <td>1.50</td>\n",
       "    </tr>\n",
       "    <tr>\n",
       "      <th>2023-12-01 03:00:00</th>\n",
       "      <td>26.88</td>\n",
       "      <td>89.00</td>\n",
       "      <td>100.62</td>\n",
       "      <td>1.87</td>\n",
       "    </tr>\n",
       "    <tr>\n",
       "      <th>2023-12-01 04:00:00</th>\n",
       "      <td>26.82</td>\n",
       "      <td>89.19</td>\n",
       "      <td>100.67</td>\n",
       "      <td>1.86</td>\n",
       "    </tr>\n",
       "    <tr>\n",
       "      <th>2023-12-01 05:00:00</th>\n",
       "      <td>26.73</td>\n",
       "      <td>89.31</td>\n",
       "      <td>100.72</td>\n",
       "      <td>1.75</td>\n",
       "    </tr>\n",
       "    <tr>\n",
       "      <th>2023-12-01 06:00:00</th>\n",
       "      <td>27.15</td>\n",
       "      <td>88.69</td>\n",
       "      <td>100.79</td>\n",
       "      <td>1.62</td>\n",
       "    </tr>\n",
       "  </tbody>\n",
       "</table>\n",
       "<p>87672 rows × 4 columns</p>\n",
       "</div>"
      ],
      "text/plain": [
       "                       T2M   RH2M      PS  WS10M\n",
       "TIME                                            \n",
       "2013-11-30 07:00:00  27.36  78.94  100.80   3.17\n",
       "2013-11-30 08:00:00  28.47  73.19  100.85   2.65\n",
       "2013-11-30 09:00:00  29.44  69.56  100.83   2.04\n",
       "2013-11-30 10:00:00  30.12  67.38  100.77   1.73\n",
       "2013-11-30 11:00:00  30.44  66.38  100.70   1.87\n",
       "...                    ...    ...     ...    ...\n",
       "2023-12-01 02:00:00  27.05  87.56  100.63   1.50\n",
       "2023-12-01 03:00:00  26.88  89.00  100.62   1.87\n",
       "2023-12-01 04:00:00  26.82  89.19  100.67   1.86\n",
       "2023-12-01 05:00:00  26.73  89.31  100.72   1.75\n",
       "2023-12-01 06:00:00  27.15  88.69  100.79   1.62\n",
       "\n",
       "[87672 rows x 4 columns]"
      ]
     },
     "execution_count": 31,
     "metadata": {},
     "output_type": "execute_result"
    }
   ],
   "source": [
    "df"
   ]
  },
  {
   "cell_type": "code",
   "execution_count": 32,
   "id": "8db2146c",
   "metadata": {},
   "outputs": [],
   "source": [
    "# train_df = weather_df['2000':'2015'].resample('M').mean()\n",
    "# train_df = train_df.fillna(train_df.mean())\n",
    "# test_df = weather_df['2016':'2017'].resample('M').mean()\n",
    "# test_df = test_df.fillna(test_df.mean())"
   ]
  },
  {
   "cell_type": "code",
   "execution_count": 33,
   "id": "2b6b8adf",
   "metadata": {},
   "outputs": [],
   "source": [
    "# import matplotlib.pyplot as plt\n",
    "# def plot_rolling_mean_std(ts):\n",
    "#     rolling_mean = ts.rolling(12).mean()\n",
    "#     rolling_std = ts.rolling(12).std()\n",
    "#     plt.figure(figsize=(10,5))\n",
    "\n",
    "#     plt.plot(ts, label='Actual Mean')\n",
    "#     plt.plot(rolling_mean, label='Rolling Mean')\n",
    "#     plt.plot(rolling_std, label = 'Rolling Std')\n",
    "#     plt.xlabel(\"Date\")\n",
    "#     plt.ylabel(\"Pressure\")\n",
    "#     plt.title('Rolling Mean & Rolling Standard Deviation')\n",
    "#     plt.legend()\n",
    "#     plt.show()"
   ]
  },
  {
   "cell_type": "code",
   "execution_count": 34,
   "id": "0934c9d0",
   "metadata": {},
   "outputs": [],
   "source": [
    "# plot_rolling_mean_std(train_data.PS)"
   ]
  },
  {
   "cell_type": "code",
   "execution_count": 35,
   "id": "70ff97e6",
   "metadata": {},
   "outputs": [],
   "source": [
    "# import plotly.express as px\n",
    "# plot = px.line(df, x=df.index, y=\"PS\")\n",
    "# plot.show()"
   ]
  },
  {
   "cell_type": "code",
   "execution_count": 36,
   "id": "babecc89",
   "metadata": {},
   "outputs": [],
   "source": [
    "# from statsmodels.tsa.seasonal import seasonal_decompose\n",
    "# result = seasonal_decompose(train_data.PS, model=\"additive\", period=365)\n",
    "# fig = result.plot()"
   ]
  },
  {
   "cell_type": "code",
   "execution_count": 37,
   "id": "b1e05c6f",
   "metadata": {},
   "outputs": [],
   "source": [
    "# from statsmodels.graphics.tsaplots import plot_acf, plot_pacf\n",
    "\n",
    "# acf_original = plot_acf(train_data.PS)\n",
    "# pacf_original = plot_pacf(train_data.PS)"
   ]
  },
  {
   "cell_type": "code",
   "execution_count": 38,
   "id": "89455a9f",
   "metadata": {},
   "outputs": [],
   "source": [
    "# from statsmodels.tsa.stattools import adfuller\n",
    "# adf_test = adfuller(train_data.PS)\n",
    "# print(f'p-value: {adf_test[1]}')"
   ]
  },
  {
   "cell_type": "code",
   "execution_count": 39,
   "id": "93709415",
   "metadata": {},
   "outputs": [],
   "source": [
    "# #ARIMA model\n",
    "# import statsmodels.api as smapi\n",
    "# from statsmodels.tsa.arima.model import ARIMA\n",
    "\n",
    "# p=4\n",
    "# d=0\n",
    "# q=0\n",
    "# model = ARIMA(train_data.T2M, order=(p,d,q))\n",
    "# model_fit = model.fit()\n",
    "# print(model_fit.summary())"
   ]
  },
  {
   "cell_type": "code",
   "execution_count": 40,
   "id": "935633b4",
   "metadata": {},
   "outputs": [
    {
     "name": "stderr",
     "output_type": "stream",
     "text": [
      "c:\\Users\\user\\Documents\\skripsi\\Lib\\site-packages\\statsmodels\\tsa\\base\\tsa_model.py:473: ValueWarning: No frequency information was provided, so inferred frequency h will be used.\n",
      "  self._init_dates(dates, freq)\n",
      "c:\\Users\\user\\Documents\\skripsi\\Lib\\site-packages\\statsmodels\\tsa\\base\\tsa_model.py:473: ValueWarning: No frequency information was provided, so inferred frequency h will be used.\n",
      "  self._init_dates(dates, freq)\n",
      "c:\\Users\\user\\Documents\\skripsi\\Lib\\site-packages\\statsmodels\\base\\model.py:607: ConvergenceWarning: Maximum Likelihood optimization failed to converge. Check mle_retvals\n",
      "  warnings.warn(\"Maximum Likelihood optimization failed to \"\n"
     ]
    },
    {
     "name": "stdout",
     "output_type": "stream",
     "text": [
      "                                     SARIMAX Results                                      \n",
      "==========================================================================================\n",
      "Dep. Variable:                                 PS   No. Observations:                70137\n",
      "Model:             SARIMAX(1, 0, 0)x(1, 1, 0, 12)   Log Likelihood              183539.004\n",
      "Date:                            Fri, 12 Jul 2024   AIC                        -367066.008\n",
      "Time:                                    05:30:31   BIC                        -367011.060\n",
      "Sample:                                11-30-2013   HQIC                       -367049.062\n",
      "                                     - 11-30-2021                                         \n",
      "Covariance Type:                              opg                                         \n",
      "==============================================================================\n",
      "                 coef    std err          z      P>|z|      [0.025      0.975]\n",
      "------------------------------------------------------------------------------\n",
      "RH2M          -0.0006   8.79e-05     -7.262      0.000      -0.001      -0.000\n",
      "T2M           -0.0203      0.001    -39.548      0.000      -0.021      -0.019\n",
      "WS10M         -0.0036      0.000    -18.558      0.000      -0.004      -0.003\n",
      "ar.L1          0.9698      0.001   1068.003      0.000       0.968       0.972\n",
      "ar.S.L12      -0.7665      0.002   -342.697      0.000      -0.771      -0.762\n",
      "sigma2         0.0003   1.37e-06    227.092      0.000       0.000       0.000\n",
      "===================================================================================\n",
      "Ljung-Box (L1) (Q):               20410.40   Jarque-Bera (JB):              3181.77\n",
      "Prob(Q):                              0.00   Prob(JB):                         0.00\n",
      "Heteroskedasticity (H):               0.91   Skew:                             0.12\n",
      "Prob(H) (two-sided):                  0.00   Kurtosis:                         4.01\n",
      "===================================================================================\n",
      "\n",
      "Warnings:\n",
      "[1] Covariance matrix calculated using the outer product of gradients (complex-step).\n"
     ]
    }
   ],
   "source": [
    "import statsmodels.api as sm\n",
    "\n",
    "\n",
    "# p = 2 \n",
    "# d = 0  \n",
    "# q = 2  \n",
    "# s = 2\n",
    "\n",
    "exog = train_data[['RH2M', 'T2M', 'WS10M']]\n",
    "\n",
    "model_sarima = sm.tsa.SARIMAX(train_data.PS, exog=exog, order=(1, 0, 0), seasonal_order=(1, 1, 0, 12))\n",
    "model_fit_sarima = model_sarima.fit()\n",
    "print(model_fit_sarima.summary())"
   ]
  },
  {
   "cell_type": "code",
   "execution_count": 41,
   "id": "be5b6bb5",
   "metadata": {},
   "outputs": [],
   "source": [
    "# import statsmodels.api as sm\n",
    "# import pmdarima as pm\n",
    "\n",
    "# exog = train_data[['RH2M', 'PS', 'WS10M']]\n",
    "# SARIMAX_model = pm.auto_arima(df[['T2M']], exog=exog,\n",
    "#                            start_p=1, start_q=1,\n",
    "#                            test='adf',\n",
    "#                            max_p=3, max_q=3, m=12,\n",
    "#                            start_P=0, seasonal=True,\n",
    "#                            d=None, D=1, \n",
    "#                            trace=False,\n",
    "#                            error_action='ignore',  \n",
    "#                            suppress_warnings=True, \n",
    "#                            stepwise=True)"
   ]
  },
  {
   "cell_type": "code",
   "execution_count": 42,
   "id": "e77e919d",
   "metadata": {},
   "outputs": [],
   "source": [
    "# #SARIMA model\n",
    "# p=4\n",
    "# d=0\n",
    "# q=5\n",
    "# model = smapi.tsa.statespace.SARIMAX(train_data.T2M, order=(p,d,q), seasonal_order=(p,d,q,12))\n",
    "# model_fit = model.fit()\n",
    "# print(model_fit.summary())"
   ]
  },
  {
   "cell_type": "code",
   "execution_count": 43,
   "id": "42f469b6",
   "metadata": {},
   "outputs": [],
   "source": [
    "# # Plot residual errors\n",
    "# import matplotlib.pyplot as plt\n",
    "# plt.rcParams.update({'figure.figsize':(12,3), 'figure.dpi':120})\n",
    "# residuals = pd.DataFrame(model_fit_sarima.resid)\n",
    "# residuals.columns = ['Residuals']\n",
    "# fig, ax = plt.subplots(1,2)\n",
    "# residuals.plot(title=\"Residuals\", ax=ax[0])\n",
    "# residuals.plot(kind='kde', title='Density', ax=ax[1])\n",
    "# plt.show()"
   ]
  },
  {
   "cell_type": "code",
   "execution_count": 44,
   "id": "1f2b3ef0",
   "metadata": {},
   "outputs": [],
   "source": [
    "# acf_res = plot_acf(model_fit_sarima.resid)\n",
    "# pacf_res = plot_pacf(model_fit_sarima.resid)"
   ]
  },
  {
   "cell_type": "code",
   "execution_count": 45,
   "id": "49e7b72b",
   "metadata": {},
   "outputs": [],
   "source": [
    "# import scipy.stats as stats\n",
    "# stats.probplot(model_fit_sarima.resid, dist=\"norm\", plot=plt)\n",
    "# plt.title('Q-Q Plot of Residuals')\n",
    "# plt.show()"
   ]
  },
  {
   "cell_type": "code",
   "execution_count": 46,
   "id": "a2a1bb9d",
   "metadata": {},
   "outputs": [],
   "source": [
    "# forecast = model_fit_sarima.get_forecast()\n",
    "# forecast_mean = forecast.predicted_mean\n",
    "# forecast_ci = forecast.conf_int()\n",
    "\n",
    "# # Plot hasil prediksi\n",
    "# fig, ax = plt.subplots()\n",
    "# df['T2M'].loc['2023-01-01':].plot(ax=ax, label='Observed')\n",
    "# forecast_mean.plot(ax=ax, style='k--', label='Forecast')\n",
    "# ax.fill_between(forecast_ci.index,\n",
    "#                 forecast_ci.iloc[:, 0],\n",
    "#                 forecast_ci.iloc[:, 1], color='k', alpha=0.1)\n",
    "# ax.set_xlabel('Date')\n",
    "# ax.set_ylabel('Temperature')\n",
    "# plt.legend()\n",
    "# plt.show()"
   ]
  },
  {
   "cell_type": "code",
   "execution_count": 86,
   "id": "952989e2",
   "metadata": {},
   "outputs": [
    {
     "name": "stdout",
     "output_type": "stream",
     "text": [
      "0.11581023797140821\n",
      "0.02063058276628308\n",
      "0.14363350154571558\n"
     ]
    }
   ],
   "source": [
    "from sklearn.metrics import mean_absolute_error, mean_squared_error, mean_absolute_percentage_error\n",
    "\n",
    "forecast = model_fit_sarima.get_forecast(steps=len(test_data.PS), exog=test_data[['RH2M', 'T2M', 'WS10M']])\n",
    "forecast_mean = forecast.predicted_mean\n",
    "forecast_ci = forecast.conf_int()\n",
    "\n",
    "mae = mean_absolute_error(test_data['PS'], forecast_mean)\n",
    "mse = mean_squared_error(test_data['PS'], forecast_mean)\n",
    "rmse = np.sqrt(mse)\n",
    "mape = np.mean(np.abs((np.array(test_data['PS']) - np.array(forecast_mean)) / np.array(test_data['PS'])))*100\n",
    "\n",
    "print(mae)\n",
    "print(mse)\n",
    "print(rmse)"
   ]
  },
  {
   "cell_type": "code",
   "execution_count": 48,
   "id": "66363e83",
   "metadata": {},
   "outputs": [
    {
     "data": {
      "image/png": "[encoded data removed]",
      "text/plain": [
       "<Figure size 1000x600 with 1 Axes>"
      ]
     },
     "metadata": {},
     "output_type": "display_data"
    }
   ],
   "source": [
    "import matplotlib.pyplot as plt\n",
    "import numpy as np\n",
    "from sklearn.metrics import mean_absolute_error, mean_squared_error, mean_absolute_percentage_error\n",
    "\n",
    "# Forecast on test data\n",
    "forecast_test = model_fit_sarima.get_forecast(steps=len(test_data), exog=test_data[['T2M', 'RH2M', 'WS10M']])\n",
    "forecast_mean_test = forecast_test.predicted_mean\n",
    "\n",
    "# Forecast on train data using predict method\n",
    "forecast_mean_train = model_fit_sarima.predict(start=train_data.index[0], end=train_data.index[-1], exog=train_data[['T2M', 'RH2M', 'WS10M']])\n",
    "\n",
    "# Confidence interval\n",
    "forecast_ci = forecast_test.conf_int()\n",
    "\n",
    "# Plotting\n",
    "fig, ax = plt.subplots(figsize=(10, 6))\n",
    "\n",
    "# Plot observed data\n",
    "train_data['PS'].plot(ax=ax, label='Data Train', linestyle='-')\n",
    "test_data['PS'].plot(ax=ax, label='Data Test', linestyle='-')\n",
    "\n",
    "# Plot forecasts\n",
    "forecast_mean_train.plot(ax=ax, label='Train Predict', color='red', linestyle='-.')\n",
    "forecast_mean_test.plot(ax=ax, label='Test Predict', color='green', linestyle='-.')\n",
    "\n",
    "# Plot confidence intervals\n",
    "ax.fill_between(forecast_ci.index,\n",
    "                forecast_ci.iloc[:, 0],\n",
    "                forecast_ci.iloc[:, 1], color='r', alpha=0.3, label='uncertainty interval')\n",
    "\n",
    "# Set y-axis limits to zoom in on the range of pressure values\n",
    "ax.set_ylim([98, 102])  # Adjust these values based on your data\n",
    "\n",
    "# Set labels and legends\n",
    "ax.set_xlabel('Date')\n",
    "ax.set_ylabel('Pressure (kPa)')\n",
    "plt.title('Pressure Predict Plot with SARIMAX Model')\n",
    "plt.legend()\n",
    "plt.show()\n"
   ]
  },
  {
   "cell_type": "code",
   "execution_count": 49,
   "id": "7356a3f8",
   "metadata": {},
   "outputs": [],
   "source": [
    "# future_exog = test_data[['RH2M', 'PS', 'WS10M']]\n",
    "\n",
    "# # Plotting predictions\n",
    "# fig, ax = plt.subplots(figsize=(10, 6))\n",
    "# ax = df['T2M'].plot(ax=ax, label='Observed')\n",
    "# plot_predict(model_fit_sarima, test_data['T2M'], exog=future_exog, ax=ax)\n",
    "# ax.set_xlabel('Date')\n",
    "# ax.set_ylabel('Temperature')\n",
    "# plt.legend()\n",
    "# plt.show()"
   ]
  },
  {
   "cell_type": "code",
   "execution_count": 50,
   "id": "161b63a3",
   "metadata": {},
   "outputs": [],
   "source": [
    "# # # Forecast values for test_df\n",
    "\n",
    "# fc = model_fit_sarima.predict(len(train_data), len(train_data)+len(test_data)-1) \n",
    "\n",
    "# # Make as pandas series\n",
    "# fc_series = pd.Series(fc, index=test_data.index)\n",
    "\n",
    "# plt.figure(figsize=(12,5), dpi=100)\n",
    "# plt.plot(train_data, label='training')\n",
    "# plt.plot(test_data, label='actual')\n",
    "# plt.plot(fc, label='forecast')\n",
    "# plt.title('Forecast vs Actuals')\n",
    "# plt.legend(loc='upper right', fontsize=8)\n",
    "# plt.show()"
   ]
  },
  {
   "cell_type": "code",
   "execution_count": 51,
   "id": "11258694",
   "metadata": {},
   "outputs": [],
   "source": [
    "# from sklearn.metrics import mean_absolute_error, mean_squared_error, mean_absolute_percentage_error\n",
    "\n",
    "# mae = mean_absolute_error(test_data, fc)\n",
    "# mape = mean_absolute_percentage_error(test_data, fc)\n",
    "# mse = np.sqrt(mean_squared_error(test_data, fc))\n",
    "\n",
    "# print(f'mae: {mae}')\n",
    "# print(f'mape: {mape}')\n",
    "# print(f'mse: {mse}')"
   ]
  },
  {
   "cell_type": "code",
   "execution_count": 52,
   "id": "aa702687",
   "metadata": {
    "scrolled": true
   },
   "outputs": [],
   "source": [
    "# df.reset_index(inplace = True)"
   ]
  },
  {
   "cell_type": "code",
   "execution_count": 53,
   "id": "a75d2759",
   "metadata": {},
   "outputs": [],
   "source": [
    "# from sklearn.model_selection import TimeSeriesSplit\n",
    "\n",
    "# tscv = TimeSeriesSplit(n_splits=15)\n",
    "# for train_index, test_index in tscv.split(df):\n",
    "#     train_data = df.iloc[train_index]\n",
    "#     test_data = df.iloc[test_index]"
   ]
  },
  {
   "cell_type": "code",
   "execution_count": 54,
   "id": "d92abdc3",
   "metadata": {},
   "outputs": [],
   "source": [
    "# train_data = df.iloc[:800]\n",
    "# test_data = df.iloc[-400:]"
   ]
  },
  {
   "cell_type": "code",
   "execution_count": 55,
   "id": "8458d40d",
   "metadata": {},
   "outputs": [],
   "source": [
    "# df_train = df_train[['TIME', 'T2M']]\n",
    "# df_test = df_test[['TIME', 'T2M']]"
   ]
  },
  {
   "cell_type": "code",
   "execution_count": 56,
   "id": "c15e05ad",
   "metadata": {},
   "outputs": [],
   "source": [
    "# df.reset_index(inplace = True)"
   ]
  },
  {
   "cell_type": "code",
   "execution_count": 57,
   "id": "eb61ee71",
   "metadata": {},
   "outputs": [],
   "source": [
    "# df.iloc[:, 0]"
   ]
  },
  {
   "cell_type": "code",
   "execution_count": 58,
   "id": "fdf91d85",
   "metadata": {},
   "outputs": [],
   "source": [
    "# from sklearn.model_selection import train_test_split\n",
    "# data_train, data_test = df.iloc[:, 0].values, df.iloc[:, 1].values"
   ]
  },
  {
   "cell_type": "code",
   "execution_count": 59,
   "id": "93582dd7",
   "metadata": {},
   "outputs": [],
   "source": [
    "# data_train, data_test = train_test_split(data_train, data_test, test_size=0.2, random_state=42)"
   ]
  },
  {
   "cell_type": "code",
   "execution_count": 60,
   "id": "f8ab2329",
   "metadata": {},
   "outputs": [],
   "source": [
    "# print(\"shape of original dataset :\", df.shape)\n",
    "# print(\"shape of input - training set\", X_train.shape)\n",
    "# print(\"shape of output - training set\", y_train.shape)\n",
    "# print(\"shape of input - testing set\", X_test.shape)\n",
    "# print(\"shape of output - testing set\", y_test.shape)"
   ]
  },
  {
   "cell_type": "code",
   "execution_count": 61,
   "id": "c816f7d4",
   "metadata": {},
   "outputs": [],
   "source": [
    "# df.index = df.index.astype('int64')"
   ]
  },
  {
   "cell_type": "code",
   "execution_count": 62,
   "id": "3df5dcf6",
   "metadata": {},
   "outputs": [],
   "source": [
    "# msk = (df.index < len(df)-30)\n",
    "# df_train = df[msk].copy()\n",
    "# df_test = df[~msk].copy()"
   ]
  },
  {
   "cell_type": "code",
   "execution_count": 63,
   "id": "5826adff",
   "metadata": {},
   "outputs": [],
   "source": [
    "# df_train = df_train[['TIME','T2M']]\n",
    "# df_train.values"
   ]
  },
  {
   "cell_type": "markdown",
   "id": "9502ff8b",
   "metadata": {},
   "source": [
    "# --------------------------------------------------------------------------------------------"
   ]
  },
  {
   "cell_type": "code",
   "execution_count": 64,
   "id": "8e1aa4f7",
   "metadata": {},
   "outputs": [],
   "source": [
    "# df = df.sort_index()\n",
    "\n",
    "# train_percentage = 0.8\n",
    "# train_size = int(len(df) * train_percentage)\n",
    "\n",
    "# train_data = df[:train_size]\n",
    "# test_data = df[train_size:]"
   ]
  },
  {
   "cell_type": "code",
   "execution_count": 65,
   "id": "769c49c2",
   "metadata": {},
   "outputs": [],
   "source": [
    "# from statsmodels.graphics.tsaplots import plot_acf, plot_pacf\n",
    "\n",
    "# acf_original = plot_acf(train_data)\n",
    "# pacf_original = plot_pacf(train_data)"
   ]
  },
  {
   "cell_type": "code",
   "execution_count": 66,
   "id": "598321dd",
   "metadata": {},
   "outputs": [],
   "source": [
    "# from statsmodels.tsa.stattools import adfuller\n",
    "# adf_test = adfuller(train_data)\n",
    "# print(f'p-value: {adf_test[1]}')"
   ]
  },
  {
   "cell_type": "code",
   "execution_count": 67,
   "id": "09ad3f2b",
   "metadata": {},
   "outputs": [],
   "source": [
    "# df_train_diff = train_data.diff().dropna()\n",
    "# df_train_diff.plot()"
   ]
  },
  {
   "cell_type": "code",
   "execution_count": 68,
   "id": "7d417a98",
   "metadata": {},
   "outputs": [],
   "source": [
    "# acf_diff = plot_acf(df_train_diff)\n",
    "# pacf_diff = plot_pacf(df_train_diff)"
   ]
  },
  {
   "cell_type": "code",
   "execution_count": 69,
   "id": "7bd47c2c",
   "metadata": {},
   "outputs": [],
   "source": [
    "# adf_test = adfuller(df_train_diff)\n",
    "# print(f'p-value: {adf_test[1]}')"
   ]
  },
  {
   "cell_type": "code",
   "execution_count": 70,
   "id": "d010be58",
   "metadata": {},
   "outputs": [],
   "source": [
    "# from statsmodels.tsa.arima.model import ARIMA\n",
    "# import warnings\n",
    "# warnings.filterwarnings(\"ignore\")\n",
    "\n",
    "# model = ARIMA(train_data, order=(1,1,3))\n",
    "# model_fit = model.fit()\n",
    "# print(model_fit.summary())"
   ]
  },
  {
   "cell_type": "code",
   "execution_count": 71,
   "id": "5893820c",
   "metadata": {},
   "outputs": [],
   "source": [
    "# import matplotlib.pyplot as plt\n",
    "# residuals = model_fit.resid[1:]\n",
    "# fig, ax = plt.subplots(1,2)\n",
    "# residuals.plot(title='Residuals', ax=ax[0])\n",
    "# residuals.plot(title='Density', kind='kde', ax=ax[1])\n",
    "# plt.show()"
   ]
  },
  {
   "cell_type": "code",
   "execution_count": 72,
   "id": "ef2dc001",
   "metadata": {},
   "outputs": [],
   "source": [
    "# acf_res = plot_acf(residuals)\n",
    "# pacf_res = plot_pacf(residuals)"
   ]
  },
  {
   "cell_type": "code",
   "execution_count": 73,
   "id": "1c714ffa",
   "metadata": {},
   "outputs": [],
   "source": [
    "# forecast_test = model_fit.forecast(len(test_data))\n",
    "\n",
    "# df['forecast'] = [None]*len(train_data) + list(forecast_test)\n",
    "\n",
    "# df.plot()"
   ]
  },
  {
   "cell_type": "code",
   "execution_count": 74,
   "id": "75a7c118",
   "metadata": {},
   "outputs": [],
   "source": [
    "# from sklearn.metrics import mean_absolute_error, mean_absolute_percentage_error, mean_squared_error\n",
    "\n",
    "# mae = mean_absolute_error(test_data, forecast_test)\n",
    "# mape = mean_absolute_percentage_error(test_data, forecast_test)\n",
    "# rmse = np.sqrt(mean_squared_error(test_data, forecast_test))\n",
    "\n",
    "# print(f'mae - manual: {mae}')\n",
    "# print(f'mape - manual: {mape}')\n",
    "# print(f'rmse - manual: {rmse}')"
   ]
  },
  {
   "cell_type": "code",
   "execution_count": 75,
   "id": "f3b6a34e",
   "metadata": {},
   "outputs": [],
   "source": [
    "# df"
   ]
  },
  {
   "cell_type": "markdown",
   "id": "9c89930e",
   "metadata": {},
   "source": [
    "### AUTO ARIMA"
   ]
  },
  {
   "cell_type": "code",
   "execution_count": 76,
   "id": "f1701d65",
   "metadata": {},
   "outputs": [],
   "source": [
    "# import pmdarima as pm\n",
    "# model_auto = pm.auto_arima(train_data, stepwise=False, seasonal=False)\n",
    "# model_auto"
   ]
  },
  {
   "cell_type": "code",
   "execution_count": 77,
   "id": "90e54b47",
   "metadata": {},
   "outputs": [],
   "source": [
    "# from pmdarima.arima import auto_arima\n",
    "\n",
    "# model_auto = auto_arima(train_data, start_p=1, start_q=1,\n",
    "#                       test='adf',\n",
    "#                       max_p=5, max_q=5,\n",
    "#                       m=1,             \n",
    "#                       d=1,          \n",
    "#                       seasonal=False,   \n",
    "#                       start_P=0, \n",
    "#                       D=None, \n",
    "#                       trace=True,\n",
    "#                       error_action='ignore',  \n",
    "#                       suppress_warnings=True, \n",
    "#                       stepwise=True)"
   ]
  },
  {
   "cell_type": "code",
   "execution_count": 78,
   "id": "123e7d33",
   "metadata": {},
   "outputs": [],
   "source": [
    "# model_auto"
   ]
  },
  {
   "cell_type": "code",
   "execution_count": 79,
   "id": "db60374f",
   "metadata": {},
   "outputs": [],
   "source": [
    "# model_auto.summary()"
   ]
  },
  {
   "cell_type": "code",
   "execution_count": 80,
   "id": "230ac388",
   "metadata": {},
   "outputs": [],
   "source": [
    "# forecast_test_auto = model_auto.predict(n_periods=len(test_data))\n",
    "# df['forecast_auto'] = [None]*len(train_data) + list(forecast_test_auto)\n",
    "\n",
    "# df.plot()"
   ]
  },
  {
   "cell_type": "code",
   "execution_count": 81,
   "id": "4f4b62e1",
   "metadata": {},
   "outputs": [],
   "source": [
    "# df"
   ]
  },
  {
   "cell_type": "code",
   "execution_count": 82,
   "id": "72463a87",
   "metadata": {},
   "outputs": [],
   "source": [
    "# mae = mean_absolute_error(test_data, forecast_test_auto)\n",
    "# mape = mean_absolute_percentage_error(test_data, forecast_test_auto)\n",
    "# rmse = np.sqrt(mean_squared_error(test_data, forecast_test_auto))\n",
    "\n",
    "# print(f'mae - auto: {mae}')\n",
    "# print(f'mape - auto: {mape}')\n",
    "# print(f'rmse - auto: {rmse}')"
   ]
  },
  {
   "cell_type": "code",
   "execution_count": 83,
   "id": "8a6df09c",
   "metadata": {},
   "outputs": [],
   "source": [
    "# pd.set_option('display.max_rows', None)\n",
    "# pd.set_option('display.max_columns', None)\n",
    "# df.dropna()"
   ]
  }
 ],
 "metadata": {
  "kernelspec": {
   "display_name": "Python 3 (ipykernel)",
   "language": "python",
   "name": "python3"
  },
  "language_info": {
   "codemirror_mode": {
    "name": "ipython",
    "version": 3
   },
   "file_extension": ".py",
   "mimetype": "text/x-python",
   "name": "python",
   "nbconvert_exporter": "python",
   "pygments_lexer": "ipython3",
   "version": "3.11.4"
  },
  "varInspector": {
   "cols": {
    "lenName": 16,
    "lenType": 16,
    "lenVar": 40
   },
   "kernels_config": {
    "python": {
     "delete_cmd_postfix": "",
     "delete_cmd_prefix": "del ",
     "library": "var_list.py",
     "varRefreshCmd": "print(var_dic_list())"
    },
    "r": {
     "delete_cmd_postfix": ") ",
     "delete_cmd_prefix": "rm(",
     "library": "var_list.r",
     "varRefreshCmd": "cat(var_dic_list()) "
    }
   },
   "types_to_exclude": [
    "module",
    "function",
    "builtin_function_or_method",
    "instance",
    "_Feature"
   ],
   "window_display": false
  }
 },
 "nbformat": 4,
 "nbformat_minor": 5
}
