{
 "cells": [
  {
   "cell_type": "code",
   "execution_count": 1,
   "id": "3e232718",
   "metadata": {},
   "outputs": [],
   "source": [
    "import numpy as np\n",
    "import pandas as pd\n",
    "import warnings\n",
    "warnings.filterwarnings(\"ignore\")"
   ]
  },
  {
   "cell_type": "code",
   "execution_count": 2,
   "id": "f224d8e9",
   "metadata": {},
   "outputs": [],
   "source": [
    "df = pd.read_csv(\"dataset_cuaca_perjam.csv\")"
   ]
  },
  {
   "cell_type": "code",
   "execution_count": 3,
   "id": "8460b649",
   "metadata": {},
   "outputs": [
    {
     "data": {
      "text/html": [
       "<div>\n",
       "<style scoped>\n",
       "    .dataframe tbody tr th:only-of-type {\n",
       "        vertical-align: middle;\n",
       "    }\n",
       "\n",
       "    .dataframe tbody tr th {\n",
       "        vertical-align: top;\n",
       "    }\n",
       "\n",
       "    .dataframe thead th {\n",
       "        text-align: right;\n",
       "    }\n",
       "</style>\n",
       "<table border=\"1\" class=\"dataframe\">\n",
       "  <thead>\n",
       "    <tr style=\"text-align: right;\">\n",
       "      <th></th>\n",
       "      <th>YEAR-MONTH-DAY</th>\n",
       "      <th>YEAR</th>\n",
       "      <th>MONTH</th>\n",
       "      <th>DAY</th>\n",
       "      <th>HOUR</th>\n",
       "      <th>T2M</th>\n",
       "      <th>RH2M</th>\n",
       "      <th>PS</th>\n",
       "      <th>WS10M</th>\n",
       "    </tr>\n",
       "  </thead>\n",
       "  <tbody>\n",
       "    <tr>\n",
       "      <th>0</th>\n",
       "      <td>11/30/2013</td>\n",
       "      <td>2013.0</td>\n",
       "      <td>11.0</td>\n",
       "      <td>30.0</td>\n",
       "      <td>7:00:00</td>\n",
       "      <td>27.36</td>\n",
       "      <td>78.94</td>\n",
       "      <td>100.80</td>\n",
       "      <td>3.17</td>\n",
       "    </tr>\n",
       "    <tr>\n",
       "      <th>1</th>\n",
       "      <td>11/30/2013</td>\n",
       "      <td>2013.0</td>\n",
       "      <td>11.0</td>\n",
       "      <td>30.0</td>\n",
       "      <td>8:00:00</td>\n",
       "      <td>28.47</td>\n",
       "      <td>73.19</td>\n",
       "      <td>100.85</td>\n",
       "      <td>2.65</td>\n",
       "    </tr>\n",
       "    <tr>\n",
       "      <th>2</th>\n",
       "      <td>11/30/2013</td>\n",
       "      <td>2013.0</td>\n",
       "      <td>11.0</td>\n",
       "      <td>30.0</td>\n",
       "      <td>9:00:00</td>\n",
       "      <td>29.44</td>\n",
       "      <td>69.56</td>\n",
       "      <td>100.83</td>\n",
       "      <td>2.04</td>\n",
       "    </tr>\n",
       "    <tr>\n",
       "      <th>3</th>\n",
       "      <td>11/30/2013</td>\n",
       "      <td>2013.0</td>\n",
       "      <td>11.0</td>\n",
       "      <td>30.0</td>\n",
       "      <td>10:00:00</td>\n",
       "      <td>30.12</td>\n",
       "      <td>67.38</td>\n",
       "      <td>100.77</td>\n",
       "      <td>1.73</td>\n",
       "    </tr>\n",
       "    <tr>\n",
       "      <th>4</th>\n",
       "      <td>11/30/2013</td>\n",
       "      <td>2013.0</td>\n",
       "      <td>11.0</td>\n",
       "      <td>30.0</td>\n",
       "      <td>11:00:00</td>\n",
       "      <td>30.44</td>\n",
       "      <td>66.38</td>\n",
       "      <td>100.70</td>\n",
       "      <td>1.87</td>\n",
       "    </tr>\n",
       "    <tr>\n",
       "      <th>...</th>\n",
       "      <td>...</td>\n",
       "      <td>...</td>\n",
       "      <td>...</td>\n",
       "      <td>...</td>\n",
       "      <td>...</td>\n",
       "      <td>...</td>\n",
       "      <td>...</td>\n",
       "      <td>...</td>\n",
       "      <td>...</td>\n",
       "    </tr>\n",
       "    <tr>\n",
       "      <th>1048570</th>\n",
       "      <td>--</td>\n",
       "      <td>NaN</td>\n",
       "      <td>NaN</td>\n",
       "      <td>NaN</td>\n",
       "      <td>NaN</td>\n",
       "      <td>NaN</td>\n",
       "      <td>NaN</td>\n",
       "      <td>NaN</td>\n",
       "      <td>NaN</td>\n",
       "    </tr>\n",
       "    <tr>\n",
       "      <th>1048571</th>\n",
       "      <td>--</td>\n",
       "      <td>NaN</td>\n",
       "      <td>NaN</td>\n",
       "      <td>NaN</td>\n",
       "      <td>NaN</td>\n",
       "      <td>NaN</td>\n",
       "      <td>NaN</td>\n",
       "      <td>NaN</td>\n",
       "      <td>NaN</td>\n",
       "    </tr>\n",
       "    <tr>\n",
       "      <th>1048572</th>\n",
       "      <td>--</td>\n",
       "      <td>NaN</td>\n",
       "      <td>NaN</td>\n",
       "      <td>NaN</td>\n",
       "      <td>NaN</td>\n",
       "      <td>NaN</td>\n",
       "      <td>NaN</td>\n",
       "      <td>NaN</td>\n",
       "      <td>NaN</td>\n",
       "    </tr>\n",
       "    <tr>\n",
       "      <th>1048573</th>\n",
       "      <td>--</td>\n",
       "      <td>NaN</td>\n",
       "      <td>NaN</td>\n",
       "      <td>NaN</td>\n",
       "      <td>NaN</td>\n",
       "      <td>NaN</td>\n",
       "      <td>NaN</td>\n",
       "      <td>NaN</td>\n",
       "      <td>NaN</td>\n",
       "    </tr>\n",
       "    <tr>\n",
       "      <th>1048574</th>\n",
       "      <td>--</td>\n",
       "      <td>NaN</td>\n",
       "      <td>NaN</td>\n",
       "      <td>NaN</td>\n",
       "      <td>NaN</td>\n",
       "      <td>NaN</td>\n",
       "      <td>NaN</td>\n",
       "      <td>NaN</td>\n",
       "      <td>NaN</td>\n",
       "    </tr>\n",
       "  </tbody>\n",
       "</table>\n",
       "<p>1048575 rows × 9 columns</p>\n",
       "</div>"
      ],
      "text/plain": [
       "        YEAR-MONTH-DAY    YEAR  MONTH   DAY      HOUR    T2M   RH2M      PS  \\\n",
       "0           11/30/2013  2013.0   11.0  30.0   7:00:00  27.36  78.94  100.80   \n",
       "1           11/30/2013  2013.0   11.0  30.0   8:00:00  28.47  73.19  100.85   \n",
       "2           11/30/2013  2013.0   11.0  30.0   9:00:00  29.44  69.56  100.83   \n",
       "3           11/30/2013  2013.0   11.0  30.0  10:00:00  30.12  67.38  100.77   \n",
       "4           11/30/2013  2013.0   11.0  30.0  11:00:00  30.44  66.38  100.70   \n",
       "...                ...     ...    ...   ...       ...    ...    ...     ...   \n",
       "1048570             --     NaN    NaN   NaN       NaN    NaN    NaN     NaN   \n",
       "1048571             --     NaN    NaN   NaN       NaN    NaN    NaN     NaN   \n",
       "1048572             --     NaN    NaN   NaN       NaN    NaN    NaN     NaN   \n",
       "1048573             --     NaN    NaN   NaN       NaN    NaN    NaN     NaN   \n",
       "1048574             --     NaN    NaN   NaN       NaN    NaN    NaN     NaN   \n",
       "\n",
       "         WS10M  \n",
       "0         3.17  \n",
       "1         2.65  \n",
       "2         2.04  \n",
       "3         1.73  \n",
       "4         1.87  \n",
       "...        ...  \n",
       "1048570    NaN  \n",
       "1048571    NaN  \n",
       "1048572    NaN  \n",
       "1048573    NaN  \n",
       "1048574    NaN  \n",
       "\n",
       "[1048575 rows x 9 columns]"
      ]
     },
     "execution_count": 3,
     "metadata": {},
     "output_type": "execute_result"
    }
   ],
   "source": [
    "df"
   ]
  },
  {
   "cell_type": "code",
   "execution_count": 4,
   "id": "9732ff77",
   "metadata": {},
   "outputs": [
    {
     "data": {
      "text/html": [
       "<div>\n",
       "<style scoped>\n",
       "    .dataframe tbody tr th:only-of-type {\n",
       "        vertical-align: middle;\n",
       "    }\n",
       "\n",
       "    .dataframe tbody tr th {\n",
       "        vertical-align: top;\n",
       "    }\n",
       "\n",
       "    .dataframe thead th {\n",
       "        text-align: right;\n",
       "    }\n",
       "</style>\n",
       "<table border=\"1\" class=\"dataframe\">\n",
       "  <thead>\n",
       "    <tr style=\"text-align: right;\">\n",
       "      <th></th>\n",
       "      <th>YEAR</th>\n",
       "      <th>MONTH</th>\n",
       "      <th>DAY</th>\n",
       "      <th>T2M</th>\n",
       "      <th>RH2M</th>\n",
       "      <th>PS</th>\n",
       "      <th>WS10M</th>\n",
       "    </tr>\n",
       "  </thead>\n",
       "  <tbody>\n",
       "    <tr>\n",
       "      <th>count</th>\n",
       "      <td>87672.000000</td>\n",
       "      <td>87672.000000</td>\n",
       "      <td>87672.000000</td>\n",
       "      <td>87672.000000</td>\n",
       "      <td>87672.000000</td>\n",
       "      <td>87672.000000</td>\n",
       "      <td>87672.000000</td>\n",
       "    </tr>\n",
       "    <tr>\n",
       "      <th>mean</th>\n",
       "      <td>2018.414157</td>\n",
       "      <td>6.524854</td>\n",
       "      <td>15.729412</td>\n",
       "      <td>27.466713</td>\n",
       "      <td>81.585563</td>\n",
       "      <td>100.829341</td>\n",
       "      <td>2.976495</td>\n",
       "    </tr>\n",
       "    <tr>\n",
       "      <th>std</th>\n",
       "      <td>2.886282</td>\n",
       "      <td>3.448991</td>\n",
       "      <td>8.801398</td>\n",
       "      <td>1.591940</td>\n",
       "      <td>8.568729</td>\n",
       "      <td>0.170545</td>\n",
       "      <td>1.322424</td>\n",
       "    </tr>\n",
       "    <tr>\n",
       "      <th>min</th>\n",
       "      <td>2013.000000</td>\n",
       "      <td>1.000000</td>\n",
       "      <td>1.000000</td>\n",
       "      <td>22.150000</td>\n",
       "      <td>41.310000</td>\n",
       "      <td>100.220000</td>\n",
       "      <td>0.010000</td>\n",
       "    </tr>\n",
       "    <tr>\n",
       "      <th>25%</th>\n",
       "      <td>2016.000000</td>\n",
       "      <td>4.000000</td>\n",
       "      <td>8.000000</td>\n",
       "      <td>26.290000</td>\n",
       "      <td>76.560000</td>\n",
       "      <td>100.710000</td>\n",
       "      <td>2.040000</td>\n",
       "    </tr>\n",
       "    <tr>\n",
       "      <th>50%</th>\n",
       "      <td>2018.000000</td>\n",
       "      <td>7.000000</td>\n",
       "      <td>16.000000</td>\n",
       "      <td>27.220000</td>\n",
       "      <td>83.810000</td>\n",
       "      <td>100.830000</td>\n",
       "      <td>2.900000</td>\n",
       "    </tr>\n",
       "    <tr>\n",
       "      <th>75%</th>\n",
       "      <td>2021.000000</td>\n",
       "      <td>10.000000</td>\n",
       "      <td>23.000000</td>\n",
       "      <td>28.600000</td>\n",
       "      <td>88.310000</td>\n",
       "      <td>100.950000</td>\n",
       "      <td>3.770000</td>\n",
       "    </tr>\n",
       "    <tr>\n",
       "      <th>max</th>\n",
       "      <td>2023.000000</td>\n",
       "      <td>12.000000</td>\n",
       "      <td>31.000000</td>\n",
       "      <td>34.150000</td>\n",
       "      <td>96.690000</td>\n",
       "      <td>101.440000</td>\n",
       "      <td>9.100000</td>\n",
       "    </tr>\n",
       "  </tbody>\n",
       "</table>\n",
       "</div>"
      ],
      "text/plain": [
       "               YEAR         MONTH           DAY           T2M          RH2M  \\\n",
       "count  87672.000000  87672.000000  87672.000000  87672.000000  87672.000000   \n",
       "mean    2018.414157      6.524854     15.729412     27.466713     81.585563   \n",
       "std        2.886282      3.448991      8.801398      1.591940      8.568729   \n",
       "min     2013.000000      1.000000      1.000000     22.150000     41.310000   \n",
       "25%     2016.000000      4.000000      8.000000     26.290000     76.560000   \n",
       "50%     2018.000000      7.000000     16.000000     27.220000     83.810000   \n",
       "75%     2021.000000     10.000000     23.000000     28.600000     88.310000   \n",
       "max     2023.000000     12.000000     31.000000     34.150000     96.690000   \n",
       "\n",
       "                 PS         WS10M  \n",
       "count  87672.000000  87672.000000  \n",
       "mean     100.829341      2.976495  \n",
       "std        0.170545      1.322424  \n",
       "min      100.220000      0.010000  \n",
       "25%      100.710000      2.040000  \n",
       "50%      100.830000      2.900000  \n",
       "75%      100.950000      3.770000  \n",
       "max      101.440000      9.100000  "
      ]
     },
     "execution_count": 4,
     "metadata": {},
     "output_type": "execute_result"
    }
   ],
   "source": [
    "df.describe()"
   ]
  },
  {
   "cell_type": "code",
   "execution_count": 5,
   "id": "1d2c2626",
   "metadata": {},
   "outputs": [],
   "source": [
    "# import matplotlib.pyplot as plt\n",
    "# # plt.bar(df['PS'], height=0.8)"
   ]
  },
  {
   "cell_type": "code",
   "execution_count": 6,
   "id": "731b4b41",
   "metadata": {},
   "outputs": [],
   "source": [
    "import matplotlib.pyplot as plt"
   ]
  },
  {
   "cell_type": "code",
   "execution_count": 7,
   "id": "4e15381b",
   "metadata": {},
   "outputs": [
    {
     "data": {
      "text/plain": [
       "[<matplotlib.lines.Line2D at 0x7cc5fc53f010>]"
      ]
     },
     "execution_count": 7,
     "metadata": {},
     "output_type": "execute_result"
    },
    {
     "data": {
      "image/png": "[encoded data removed]",
      "text/plain": [
       "<Figure size 640x480 with 1 Axes>"
      ]
     },
     "metadata": {},
     "output_type": "display_data"
    }
   ],
   "source": [
    "plt.plot(df['RH2M'])"
   ]
  },
  {
   "cell_type": "markdown",
   "id": "8b1fee52",
   "metadata": {},
   "source": [
    "## PREPROCESSING"
   ]
  },
  {
   "cell_type": "code",
   "execution_count": 8,
   "id": "89270ecd",
   "metadata": {},
   "outputs": [],
   "source": [
    "df.dropna(inplace=True)"
   ]
  },
  {
   "cell_type": "code",
   "execution_count": 9,
   "id": "97f2c7f1",
   "metadata": {},
   "outputs": [],
   "source": [
    "df = df.drop(columns=['YEAR', 'MONTH', 'DAY'], axis=1)"
   ]
  },
  {
   "cell_type": "code",
   "execution_count": 10,
   "id": "32d7a3be",
   "metadata": {},
   "outputs": [
    {
     "data": {
      "text/plain": [
       "YEAR-MONTH-DAY    0\n",
       "HOUR              0\n",
       "T2M               0\n",
       "RH2M              0\n",
       "PS                0\n",
       "WS10M             0\n",
       "dtype: int64"
      ]
     },
     "execution_count": 10,
     "metadata": {},
     "output_type": "execute_result"
    }
   ],
   "source": [
    "df.isnull().sum()"
   ]
  },
  {
   "cell_type": "code",
   "execution_count": 11,
   "id": "94036398",
   "metadata": {},
   "outputs": [
    {
     "data": {
      "text/plain": [
       "YEAR-MONTH-DAY     object\n",
       "HOUR               object\n",
       "T2M               float64\n",
       "RH2M              float64\n",
       "PS                float64\n",
       "WS10M             float64\n",
       "dtype: object"
      ]
     },
     "execution_count": 11,
     "metadata": {},
     "output_type": "execute_result"
    }
   ],
   "source": [
    "df.dtypes"
   ]
  },
  {
   "cell_type": "code",
   "execution_count": 12,
   "id": "0568c6f6",
   "metadata": {},
   "outputs": [],
   "source": [
    "df['YEAR-MONTH-DAY'] = pd.to_datetime(df['YEAR-MONTH-DAY'])\n",
    "df['HOUR'] = pd.to_timedelta(df['HOUR'])\n",
    "df['TIME'] = df['YEAR-MONTH-DAY'] + df['HOUR']"
   ]
  },
  {
   "cell_type": "code",
   "execution_count": 13,
   "id": "edff096e",
   "metadata": {},
   "outputs": [],
   "source": [
    "del df['YEAR-MONTH-DAY']\n",
    "del df['HOUR']"
   ]
  },
  {
   "cell_type": "code",
   "execution_count": 14,
   "id": "80030b77",
   "metadata": {},
   "outputs": [
    {
     "data": {
      "text/plain": [
       "T2M             float64\n",
       "RH2M            float64\n",
       "PS              float64\n",
       "WS10M           float64\n",
       "TIME     datetime64[ns]\n",
       "dtype: object"
      ]
     },
     "execution_count": 14,
     "metadata": {},
     "output_type": "execute_result"
    }
   ],
   "source": [
    "df.dtypes"
   ]
  },
  {
   "cell_type": "code",
   "execution_count": 15,
   "id": "85b9ac6c",
   "metadata": {},
   "outputs": [],
   "source": [
    "df.set_index(df['TIME'], inplace = True)"
   ]
  },
  {
   "cell_type": "code",
   "execution_count": 16,
   "id": "74f58853",
   "metadata": {},
   "outputs": [],
   "source": [
    "# df['T_target'] = df.shift(-1)['T2M']\n",
    "# df['RH_target'] = df.shift(-1)['RH2M']\n",
    "# df['PS_target'] = df.shift(-1)['PS']\n",
    "# df['WS_target'] = df.shift(-1)['WS10M']"
   ]
  },
  {
   "cell_type": "code",
   "execution_count": 17,
   "id": "a77afb5c",
   "metadata": {},
   "outputs": [
    {
     "data": {
      "text/html": [
       "<div>\n",
       "<style scoped>\n",
       "    .dataframe tbody tr th:only-of-type {\n",
       "        vertical-align: middle;\n",
       "    }\n",
       "\n",
       "    .dataframe tbody tr th {\n",
       "        vertical-align: top;\n",
       "    }\n",
       "\n",
       "    .dataframe thead th {\n",
       "        text-align: right;\n",
       "    }\n",
       "</style>\n",
       "<table border=\"1\" class=\"dataframe\">\n",
       "  <thead>\n",
       "    <tr style=\"text-align: right;\">\n",
       "      <th></th>\n",
       "      <th>T2M</th>\n",
       "      <th>RH2M</th>\n",
       "      <th>PS</th>\n",
       "      <th>WS10M</th>\n",
       "      <th>TIME</th>\n",
       "    </tr>\n",
       "    <tr>\n",
       "      <th>TIME</th>\n",
       "      <th></th>\n",
       "      <th></th>\n",
       "      <th></th>\n",
       "      <th></th>\n",
       "      <th></th>\n",
       "    </tr>\n",
       "  </thead>\n",
       "  <tbody>\n",
       "    <tr>\n",
       "      <th>2013-11-30 07:00:00</th>\n",
       "      <td>27.36</td>\n",
       "      <td>78.94</td>\n",
       "      <td>100.80</td>\n",
       "      <td>3.17</td>\n",
       "      <td>2013-11-30 07:00:00</td>\n",
       "    </tr>\n",
       "    <tr>\n",
       "      <th>2013-11-30 08:00:00</th>\n",
       "      <td>28.47</td>\n",
       "      <td>73.19</td>\n",
       "      <td>100.85</td>\n",
       "      <td>2.65</td>\n",
       "      <td>2013-11-30 08:00:00</td>\n",
       "    </tr>\n",
       "    <tr>\n",
       "      <th>2013-11-30 09:00:00</th>\n",
       "      <td>29.44</td>\n",
       "      <td>69.56</td>\n",
       "      <td>100.83</td>\n",
       "      <td>2.04</td>\n",
       "      <td>2013-11-30 09:00:00</td>\n",
       "    </tr>\n",
       "    <tr>\n",
       "      <th>2013-11-30 10:00:00</th>\n",
       "      <td>30.12</td>\n",
       "      <td>67.38</td>\n",
       "      <td>100.77</td>\n",
       "      <td>1.73</td>\n",
       "      <td>2013-11-30 10:00:00</td>\n",
       "    </tr>\n",
       "    <tr>\n",
       "      <th>2013-11-30 11:00:00</th>\n",
       "      <td>30.44</td>\n",
       "      <td>66.38</td>\n",
       "      <td>100.70</td>\n",
       "      <td>1.87</td>\n",
       "      <td>2013-11-30 11:00:00</td>\n",
       "    </tr>\n",
       "  </tbody>\n",
       "</table>\n",
       "</div>"
      ],
      "text/plain": [
       "                       T2M   RH2M      PS  WS10M                TIME\n",
       "TIME                                                                \n",
       "2013-11-30 07:00:00  27.36  78.94  100.80   3.17 2013-11-30 07:00:00\n",
       "2013-11-30 08:00:00  28.47  73.19  100.85   2.65 2013-11-30 08:00:00\n",
       "2013-11-30 09:00:00  29.44  69.56  100.83   2.04 2013-11-30 09:00:00\n",
       "2013-11-30 10:00:00  30.12  67.38  100.77   1.73 2013-11-30 10:00:00\n",
       "2013-11-30 11:00:00  30.44  66.38  100.70   1.87 2013-11-30 11:00:00"
      ]
     },
     "execution_count": 17,
     "metadata": {},
     "output_type": "execute_result"
    }
   ],
   "source": [
    "df.head()"
   ]
  },
  {
   "cell_type": "code",
   "execution_count": 18,
   "id": "d85f30e7",
   "metadata": {},
   "outputs": [],
   "source": [
    "df.dropna(inplace=True)"
   ]
  },
  {
   "cell_type": "code",
   "execution_count": 19,
   "id": "1a436d70",
   "metadata": {},
   "outputs": [],
   "source": [
    "# # df.sort_index(inplace=True)\n",
    "\n",
    "# # start_date = '2021-04-01 09:00:00'\n",
    "# # end_date = '2022-05-01 16:00:00'\n",
    "\n",
    "# df = df.iloc[-100:]"
   ]
  },
  {
   "cell_type": "code",
   "execution_count": 20,
   "id": "6822d99e",
   "metadata": {},
   "outputs": [],
   "source": [
    "del df['TIME']\n",
    "del df['T2M']\n",
    "del df['PS']\n",
    "del df['WS10M']"
   ]
  },
  {
   "cell_type": "code",
   "execution_count": 21,
   "id": "397be16b",
   "metadata": {},
   "outputs": [
    {
     "data": {
      "text/html": [
       "<div>\n",
       "<style scoped>\n",
       "    .dataframe tbody tr th:only-of-type {\n",
       "        vertical-align: middle;\n",
       "    }\n",
       "\n",
       "    .dataframe tbody tr th {\n",
       "        vertical-align: top;\n",
       "    }\n",
       "\n",
       "    .dataframe thead th {\n",
       "        text-align: right;\n",
       "    }\n",
       "</style>\n",
       "<table border=\"1\" class=\"dataframe\">\n",
       "  <thead>\n",
       "    <tr style=\"text-align: right;\">\n",
       "      <th></th>\n",
       "      <th>RH2M</th>\n",
       "    </tr>\n",
       "    <tr>\n",
       "      <th>TIME</th>\n",
       "      <th></th>\n",
       "    </tr>\n",
       "  </thead>\n",
       "  <tbody>\n",
       "    <tr>\n",
       "      <th>2013-11-30 07:00:00</th>\n",
       "      <td>78.94</td>\n",
       "    </tr>\n",
       "    <tr>\n",
       "      <th>2013-11-30 08:00:00</th>\n",
       "      <td>73.19</td>\n",
       "    </tr>\n",
       "    <tr>\n",
       "      <th>2013-11-30 09:00:00</th>\n",
       "      <td>69.56</td>\n",
       "    </tr>\n",
       "    <tr>\n",
       "      <th>2013-11-30 10:00:00</th>\n",
       "      <td>67.38</td>\n",
       "    </tr>\n",
       "    <tr>\n",
       "      <th>2013-11-30 11:00:00</th>\n",
       "      <td>66.38</td>\n",
       "    </tr>\n",
       "  </tbody>\n",
       "</table>\n",
       "</div>"
      ],
      "text/plain": [
       "                      RH2M\n",
       "TIME                      \n",
       "2013-11-30 07:00:00  78.94\n",
       "2013-11-30 08:00:00  73.19\n",
       "2013-11-30 09:00:00  69.56\n",
       "2013-11-30 10:00:00  67.38\n",
       "2013-11-30 11:00:00  66.38"
      ]
     },
     "execution_count": 21,
     "metadata": {},
     "output_type": "execute_result"
    }
   ],
   "source": [
    "df.head()"
   ]
  },
  {
   "cell_type": "code",
   "execution_count": null,
   "id": "18f83179",
   "metadata": {},
   "outputs": [
    {
     "data": {
      "text/plain": [
       "array([<Axes: xlabel='TIME'>], dtype=object)"
      ]
     },
     "execution_count": 22,
     "metadata": {},
     "output_type": "execute_result"
    }
   ],
   "source": [
    "df.plot(subplots=True, figsize=(10,4))"
   ]
  },
  {
   "cell_type": "code",
   "execution_count": null,
   "id": "f781c8c1",
   "metadata": {},
   "outputs": [],
   "source": [
    "\n",
    "Q1 = np.percentile(df['RH2M'], 25)\n",
    "Q3 = np.percentile(df['RH2M'], 75)\n",
    "\n",
    "IQR = Q3 - Q1\n",
    "\n",
    "lower_fence = Q1 - 1.5 * IQR\n",
    "upper_fence = Q3 + 1.5 * IQR\n",
    "\n",
    "outliers = (df['RH2M'] < lower_fence) | (df['RH2M'] > upper_fence)\n",
    "num_outliers = sum(outliers)\n",
    "\n",
    "print(\"Jumlah outlier:\", num_outliers)\n",
    "\n"
   ]
  },
  {
   "cell_type": "code",
   "execution_count": null,
   "id": "7bab7fe0",
   "metadata": {},
   "outputs": [],
   "source": [
    "import numpy as np\n",
    "import seaborn as sns\n",
    "import matplotlib.pyplot as plt\n",
    "\n",
    "def remove_outliers(df, column, threshold=1.5, max_iterations=5):\n",
    "    # Menampilkan box plot awal\n",
    "    sns.boxplot(df[column])\n",
    "    plt.title(f'Original Box Plot of {column}')\n",
    "    plt.show()\n",
    "    \n",
    "    current_df = df.copy()\n",
    "    iteration = 0\n",
    "    while True:\n",
    "        Q1 = np.percentile(current_df[column], 25)\n",
    "        Q3 = np.percentile(current_df[column], 75)\n",
    "        IQR = Q3 - Q1\n",
    "        lower_fence = Q1 - threshold * IQR\n",
    "        upper_fence = Q3 + threshold * IQR\n",
    "\n",
    "        filtered_df = current_df[(current_df[column] >= lower_fence) & (current_df[column] <= upper_fence)]\n",
    "        \n",
    "        if len(filtered_df) == len(current_df):\n",
    "            break\n",
    "        \n",
    "        current_df = filtered_df\n",
    "        iteration += 1\n",
    "\n",
    "        if iteration >= max_iterations:\n",
    "            break\n",
    "\n",
    "    sns.boxplot(current_df[column])\n",
    "    plt.title(f'Box Plot without Outliers of {column} after {iteration} iterations')\n",
    "    plt.show()\n",
    "    \n",
    "    return current_df\n",
    "\n",
    "df = remove_outliers(df, 'RH2M')\n",
    "\n",
    "print(df)\n"
   ]
  },
  {
   "cell_type": "code",
   "execution_count": null,
   "id": "0b996bcf",
   "metadata": {},
   "outputs": [],
   "source": [
    "#log_transform\n",
    "df = np.log(df)"
   ]
  },
  {
   "cell_type": "code",
   "execution_count": null,
   "id": "a0cae59a",
   "metadata": {},
   "outputs": [],
   "source": [
    "# import seaborn as sns\n",
    " \n",
    "# def remove_outliers(df, column, threshold):\n",
    "#     sns.boxplot(df[column])\n",
    "#     plt.title(f'Original Box Plot of {column}')\n",
    "#     plt.show()\n",
    " \n",
    "#     Q1 = np.percentile(df, 25)\n",
    "#     Q3 = np.percentile(df, 75)\n",
    "\n",
    "#     IQR = Q3 - Q1\n",
    "#     lower_fence = Q1 - 1.5 * IQR\n",
    "#     upper_fence = Q3 + 1.5 * IQR\n",
    "\n",
    "#     outliers = df[(df[column] > lower_fence) & (df[column] < upper_fence)]\n",
    "# #     num_outliers = sum(outliers)\n",
    "#     sns.boxplot(outliers[column])\n",
    "#     plt.title(f'Box Plot without Outliers of {column}')\n",
    "#     plt.show()\n",
    "#     plt.show()\n",
    "#     return outliers\n",
    " \n",
    "\n",
    "# df = remove_outliers(df, 'RH2M', outliers)"
   ]
  },
  {
   "cell_type": "code",
   "execution_count": null,
   "id": "8e0a4118",
   "metadata": {},
   "outputs": [],
   "source": [
    "# df.sort_index(inplace=True)\n",
    "# data_range = df.loc['2023-11-01 09:00:00':'2023-12-01 09:00:00']"
   ]
  },
  {
   "cell_type": "code",
   "execution_count": null,
   "id": "652d7bb1",
   "metadata": {},
   "outputs": [],
   "source": [
    "# df['2021':'2022'].plot(subplots=True, figsize=(20,12))"
   ]
  },
  {
   "cell_type": "code",
   "execution_count": null,
   "id": "65e228eb",
   "metadata": {},
   "outputs": [],
   "source": [
    "# data_range['T2M'].plot()"
   ]
  },
  {
   "cell_type": "markdown",
   "id": "1d75484f",
   "metadata": {},
   "source": [
    "## SPLITTING DATA"
   ]
  },
  {
   "cell_type": "code",
   "execution_count": null,
   "id": "38d384cb",
   "metadata": {},
   "outputs": [],
   "source": [
    "df = df.sort_index()\n",
    "\n",
    "train_percentage = 0.8\n",
    "train_size = int(len(df) * train_percentage)\n",
    "\n",
    "train_data = df[:train_size].resample('M').mean()\n",
    "test_data = df[train_size:].resample('M').mean()\n",
    "\n",
    "# train_data = df[:train_size]\n",
    "# test_data = df[train_size:]"
   ]
  },
  {
   "cell_type": "code",
   "execution_count": null,
   "id": "17794855",
   "metadata": {},
   "outputs": [],
   "source": [
    "df.index"
   ]
  },
  {
   "cell_type": "code",
   "execution_count": null,
   "id": "00c65342",
   "metadata": {},
   "outputs": [],
   "source": [
    "df"
   ]
  },
  {
   "cell_type": "code",
   "execution_count": null,
   "id": "a1b74075",
   "metadata": {},
   "outputs": [],
   "source": [
    "# train_df = weather_df['2000':'2015'].resample('M').mean()\n",
    "# train_df = train_df.fillna(train_df.mean())\n",
    "# test_df = weather_df['2016':'2017'].resample('M').mean()\n",
    "# test_df = test_df.fillna(test_df.mean())"
   ]
  },
  {
   "cell_type": "code",
   "execution_count": null,
   "id": "22af6f91",
   "metadata": {},
   "outputs": [],
   "source": [
    "import matplotlib.pyplot as plt\n",
    "def plot_rolling_mean_std(ts):\n",
    "    rolling_mean = ts.rolling(12).mean()\n",
    "    rolling_std = ts.rolling(12).std()\n",
    "    plt.figure(figsize=(10,5))\n",
    "\n",
    "    plt.plot(ts, label='Actual Mean')\n",
    "    plt.plot(rolling_mean, label='Rolling Mean')\n",
    "    plt.plot(rolling_std, label = 'Rolling Std')\n",
    "    plt.xlabel(\"Date\")\n",
    "    plt.ylabel(\"Mean Temperature\")\n",
    "    plt.title('Rolling Mean & Rolling Standard Deviation')\n",
    "    plt.legend()\n",
    "    plt.show()"
   ]
  },
  {
   "cell_type": "code",
   "execution_count": null,
   "id": "1ab1db5d",
   "metadata": {},
   "outputs": [],
   "source": [
    "plot_rolling_mean_std(train_data.RH2M)"
   ]
  },
  {
   "cell_type": "code",
   "execution_count": null,
   "id": "86f260f5",
   "metadata": {},
   "outputs": [],
   "source": [
    "# import plotly.express as px\n",
    "# plot = px.line(df, x=df.index, y=\"RH2M\")\n",
    "# plot.show()"
   ]
  },
  {
   "cell_type": "code",
   "execution_count": null,
   "id": "4dfc1e42",
   "metadata": {},
   "outputs": [],
   "source": [
    "# from statsmodels.tsa.seasonal import seasonal_decompose\n",
    "# result = seasonal_decompose(df.index, model=\"multiplicative\", period=30)\n",
    "# fig = plt.figure()\n",
    "# fig = result.plot()"
   ]
  },
  {
   "cell_type": "code",
   "execution_count": null,
   "id": "b67cfffe",
   "metadata": {},
   "outputs": [],
   "source": [
    "from statsmodels.graphics.tsaplots import plot_acf, plot_pacf\n",
    "\n",
    "acf_original = plot_acf(train_data)\n",
    "pacf_original = plot_pacf(train_data)"
   ]
  },
  {
   "cell_type": "code",
   "execution_count": null,
   "id": "abdb1517",
   "metadata": {},
   "outputs": [],
   "source": [
    "from statsmodels.tsa.stattools import adfuller\n",
    "adf_test = adfuller(train_data)\n",
    "print(f'p-value: {adf_test[1]}')"
   ]
  },
  {
   "cell_type": "code",
   "execution_count": null,
   "id": "9c5f52ed",
   "metadata": {},
   "outputs": [],
   "source": [
    "train_data_diff = train_data.diff().dropna()\n",
    "train_data_diff.plot()"
   ]
  },
  {
   "cell_type": "code",
   "execution_count": null,
   "id": "3f5ae2fb",
   "metadata": {},
   "outputs": [],
   "source": [
    "acf_diff = plot_acf(train_data_diff)\n",
    "pacf_diff = plot_pacf(train_data_diff)"
   ]
  },
  {
   "cell_type": "code",
   "execution_count": null,
   "id": "ef361dc1",
   "metadata": {},
   "outputs": [],
   "source": [
    "adf_test = adfuller(train_data_diff)\n",
    "print(f'p-value: {adf_test[1]}')"
   ]
  },
  {
   "cell_type": "code",
   "execution_count": null,
   "id": "cb35a5fd",
   "metadata": {},
   "outputs": [],
   "source": [
    "#ARIMA model\n",
    "import statsmodels.api as smapi\n",
    "from statsmodels.tsa.arima.model import ARIMA\n",
    "\n",
    "p=6\n",
    "d=1\n",
    "q=6\n",
    "model = ARIMA(train_data.RH2M, order=(p,d,q))\n",
    "model_fit = model.fit()\n",
    "print(model_fit.summary())"
   ]
  },
  {
   "cell_type": "code",
   "execution_count": null,
   "id": "c16fdf3c",
   "metadata": {},
   "outputs": [],
   "source": [
    "# #SARIMA model\n",
    "# p=4\n",
    "# d=0\n",
    "# q=5\n",
    "# model = smapi.tsa.statespace.SARIMAX(train_data.T2M, order=(p,d,q), seasonal_order=(p,d,q,12))\n",
    "# model_fit = model.fit()\n",
    "# print(model_fit.summary())"
   ]
  },
  {
   "cell_type": "code",
   "execution_count": null,
   "id": "0c1a700e",
   "metadata": {},
   "outputs": [],
   "source": [
    "# Plot residual errors\n",
    "import matplotlib.pyplot as plt\n",
    "plt.rcParams.update({'figure.figsize':(12,3), 'figure.dpi':120})\n",
    "residuals = pd.DataFrame(model_fit.resid)\n",
    "residuals.columns = ['Residuals']\n",
    "fig, ax = plt.subplots(1,2)\n",
    "residuals.plot(title=\"Residuals\", ax=ax[0])\n",
    "residuals.plot(kind='kde', title='Density', ax=ax[1])\n",
    "plt.show()"
   ]
  },
  {
   "cell_type": "code",
   "execution_count": null,
   "id": "4982dfb9",
   "metadata": {},
   "outputs": [],
   "source": [
    "acf_res = plot_acf(model_fit.resid)\n",
    "pacf_res = plot_pacf(model_fit.resid)"
   ]
  },
  {
   "cell_type": "code",
   "execution_count": null,
   "id": "3f2fb7b9",
   "metadata": {},
   "outputs": [],
   "source": [
    "import scipy.stats as stats\n",
    "stats.probplot(model_fit.resid, dist=\"norm\", plot=plt)\n",
    "plt.title('Q-Q Plot of Residuals')\n",
    "plt.show()"
   ]
  },
  {
   "cell_type": "code",
   "execution_count": null,
   "id": "87154957",
   "metadata": {},
   "outputs": [],
   "source": [
    "# # Forecast values for test_df\n",
    "\n",
    "fc = model_fit.predict(len(train_data), len(train_data)+24) \n",
    "#print(conf)\n",
    "# print(fc)\n",
    "# Make as pandas series\n",
    "# fc_series = pd.Series(fc, index=test_data.index)\n",
    "\n",
    "plt.figure(figsize=(12,5), dpi=100)\n",
    "plt.plot(train_data, label='training')\n",
    "plt.plot(test_data, label='actual')\n",
    "plt.plot(fc, label='forecast')\n",
    "plt.title('Forecast vs Actuals')\n",
    "plt.legend(loc='upper right', fontsize=8)\n",
    "plt.show()"
   ]
  },
  {
   "cell_type": "code",
   "execution_count": null,
   "id": "b18589b3",
   "metadata": {},
   "outputs": [],
   "source": [
    "# fc=pd.DataFrame(fc, index=df.index)\n",
    "# fc.dropna(inplace=True)\n",
    "# # df['compare'] = test_data[:25]+fc\n",
    "# fc"
   ]
  },
  {
   "cell_type": "code",
   "execution_count": null,
   "id": "fd3d8edc",
   "metadata": {},
   "outputs": [],
   "source": [
    "from sklearn.metrics import mean_absolute_error, mean_squared_error, mean_absolute_percentage_error\n",
    "\n",
    "mae = mean_absolute_error(test_data, fc)\n",
    "mape = mean_absolute_percentage_error(test_data, fc)\n",
    "rmse = np.sqrt(mean_squared_error(test_data, fc))\n",
    "\n",
    "print(f'mae: {mae}')\n",
    "print(f'mape: {mape}')\n",
    "print(f'rmse: {rmse}')"
   ]
  },
  {
   "cell_type": "code",
   "execution_count": null,
   "id": "c2505bf0",
   "metadata": {
    "scrolled": true
   },
   "outputs": [],
   "source": [
    "# df.reset_index(inplace = True)"
   ]
  },
  {
   "cell_type": "code",
   "execution_count": null,
   "id": "6e9c26c6",
   "metadata": {},
   "outputs": [],
   "source": [
    "# from sklearn.model_selection import TimeSeriesSplit\n",
    "\n",
    "# tscv = TimeSeriesSplit(n_splits=15)\n",
    "# for train_index, test_index in tscv.split(df):\n",
    "#     train_data = df.iloc[train_index]\n",
    "#     test_data = df.iloc[test_index]"
   ]
  },
  {
   "cell_type": "code",
   "execution_count": null,
   "id": "a0652692",
   "metadata": {},
   "outputs": [],
   "source": [
    "# train_data = df.iloc[:800]\n",
    "# test_data = df.iloc[-400:]"
   ]
  },
  {
   "cell_type": "code",
   "execution_count": null,
   "id": "49d35cac",
   "metadata": {},
   "outputs": [],
   "source": [
    "# df_train = df_train[['TIME', 'T2M']]\n",
    "# df_test = df_test[['TIME', 'T2M']]"
   ]
  },
  {
   "cell_type": "code",
   "execution_count": null,
   "id": "30306a08",
   "metadata": {},
   "outputs": [],
   "source": [
    "# df.reset_index(inplace = True)"
   ]
  },
  {
   "cell_type": "code",
   "execution_count": null,
   "id": "dd9f6b7f",
   "metadata": {},
   "outputs": [],
   "source": [
    "# df.iloc[:, 0]"
   ]
  },
  {
   "cell_type": "code",
   "execution_count": null,
   "id": "6c002bd5",
   "metadata": {},
   "outputs": [],
   "source": [
    "# from sklearn.model_selection import train_test_split\n",
    "# data_train, data_test = df.iloc[:, 0].values, df.iloc[:, 1].values"
   ]
  },
  {
   "cell_type": "code",
   "execution_count": null,
   "id": "223da39d",
   "metadata": {},
   "outputs": [],
   "source": [
    "# data_train, data_test = train_test_split(data_train, data_test, test_size=0.2, random_state=42)"
   ]
  },
  {
   "cell_type": "code",
   "execution_count": null,
   "id": "e6736128",
   "metadata": {},
   "outputs": [],
   "source": [
    "# print(\"shape of original dataset :\", df.shape)\n",
    "# print(\"shape of input - training set\", X_train.shape)\n",
    "# print(\"shape of output - training set\", y_train.shape)\n",
    "# print(\"shape of input - testing set\", X_test.shape)\n",
    "# print(\"shape of output - testing set\", y_test.shape)"
   ]
  },
  {
   "cell_type": "code",
   "execution_count": null,
   "id": "a6448cce",
   "metadata": {},
   "outputs": [],
   "source": [
    "# df.index = df.index.astype('int64')"
   ]
  },
  {
   "cell_type": "code",
   "execution_count": null,
   "id": "da2e1f3e",
   "metadata": {},
   "outputs": [],
   "source": [
    "# msk = (df.index < len(df)-30)\n",
    "# df_train = df[msk].copy()\n",
    "# df_test = df[~msk].copy()"
   ]
  },
  {
   "cell_type": "code",
   "execution_count": null,
   "id": "0df2e164",
   "metadata": {},
   "outputs": [],
   "source": [
    "# df_train = df_train[['TIME','T2M']]\n",
    "# df_train.values"
   ]
  },
  {
   "cell_type": "markdown",
   "id": "ca8f72fb",
   "metadata": {},
   "source": [
    "# --------------------------------------------------------------------------------------------"
   ]
  },
  {
   "cell_type": "code",
   "execution_count": null,
   "id": "7a385f82",
   "metadata": {},
   "outputs": [],
   "source": [
    "# df = df.sort_index()\n",
    "\n",
    "# train_percentage = 0.8\n",
    "# train_size = int(len(df) * train_percentage)\n",
    "\n",
    "# train_data = df[:train_size]\n",
    "# test_data = df[train_size:]"
   ]
  },
  {
   "cell_type": "code",
   "execution_count": null,
   "id": "c7088d6f",
   "metadata": {},
   "outputs": [],
   "source": [
    "# from statsmodels.graphics.tsaplots import plot_acf, plot_pacf\n",
    "\n",
    "# acf_original = plot_acf(train_data)\n",
    "# pacf_original = plot_pacf(train_data)"
   ]
  },
  {
   "cell_type": "code",
   "execution_count": null,
   "id": "21b0842a",
   "metadata": {},
   "outputs": [],
   "source": [
    "# from statsmodels.tsa.stattools import adfuller\n",
    "# adf_test = adfuller(train_data)\n",
    "# print(f'p-value: {adf_test[1]}')"
   ]
  },
  {
   "cell_type": "code",
   "execution_count": null,
   "id": "d5e70161",
   "metadata": {},
   "outputs": [],
   "source": [
    "# df_train_diff = train_data.diff().dropna()\n",
    "# df_train_diff.plot()"
   ]
  },
  {
   "cell_type": "code",
   "execution_count": null,
   "id": "5a98a494",
   "metadata": {},
   "outputs": [],
   "source": [
    "# acf_diff = plot_acf(df_train_diff)\n",
    "# pacf_diff = plot_pacf(df_train_diff)"
   ]
  },
  {
   "cell_type": "code",
   "execution_count": null,
   "id": "a29f5a0c",
   "metadata": {},
   "outputs": [],
   "source": [
    "# adf_test = adfuller(df_train_diff)\n",
    "# print(f'p-value: {adf_test[1]}')"
   ]
  },
  {
   "cell_type": "code",
   "execution_count": null,
   "id": "5f93a08d",
   "metadata": {},
   "outputs": [],
   "source": [
    "# from statsmodels.tsa.arima.model import ARIMA\n",
    "# import warnings\n",
    "# warnings.filterwarnings(\"ignore\")\n",
    "\n",
    "# model = ARIMA(train_data, order=(1,1,3))\n",
    "# model_fit = model.fit()\n",
    "# print(model_fit.summary())"
   ]
  },
  {
   "cell_type": "code",
   "execution_count": null,
   "id": "42f22071",
   "metadata": {},
   "outputs": [],
   "source": [
    "# import matplotlib.pyplot as plt\n",
    "# residuals = model_fit.resid[1:]\n",
    "# fig, ax = plt.subplots(1,2)\n",
    "# residuals.plot(title='Residuals', ax=ax[0])\n",
    "# residuals.plot(title='Density', kind='kde', ax=ax[1])\n",
    "# plt.show()"
   ]
  },
  {
   "cell_type": "code",
   "execution_count": null,
   "id": "73ee3c29",
   "metadata": {},
   "outputs": [],
   "source": [
    "# acf_res = plot_acf(residuals)\n",
    "# pacf_res = plot_pacf(residuals)"
   ]
  },
  {
   "cell_type": "code",
   "execution_count": null,
   "id": "830b9643",
   "metadata": {},
   "outputs": [],
   "source": [
    "# forecast_test = model_fit.forecast(len(test_data))\n",
    "\n",
    "# df['forecast'] = [None]*len(train_data) + list(forecast_test)\n",
    "\n",
    "# df.plot()"
   ]
  },
  {
   "cell_type": "code",
   "execution_count": null,
   "id": "a60e147a",
   "metadata": {},
   "outputs": [],
   "source": [
    "# from sklearn.metrics import mean_absolute_error, mean_absolute_percentage_error, mean_squared_error\n",
    "\n",
    "# mae = mean_absolute_error(test_data, forecast_test)\n",
    "# mape = mean_absolute_percentage_error(test_data, forecast_test)\n",
    "# rmse = np.sqrt(mean_squared_error(test_data, forecast_test))\n",
    "\n",
    "# print(f'mae - manual: {mae}')\n",
    "# print(f'mape - manual: {mape}')\n",
    "# print(f'rmse - manual: {rmse}')"
   ]
  },
  {
   "cell_type": "code",
   "execution_count": null,
   "id": "3b81521d",
   "metadata": {},
   "outputs": [],
   "source": [
    "# df"
   ]
  },
  {
   "cell_type": "markdown",
   "id": "e102ba3b",
   "metadata": {},
   "source": [
    "### AUTO ARIMA"
   ]
  },
  {
   "cell_type": "code",
   "execution_count": null,
   "id": "0776375e",
   "metadata": {},
   "outputs": [],
   "source": [
    "# import pmdarima as pm\n",
    "# model_auto = pm.auto_arima(train_data, stepwise=False, seasonal=False)\n",
    "# model_auto"
   ]
  },
  {
   "cell_type": "code",
   "execution_count": null,
   "id": "8925974b",
   "metadata": {},
   "outputs": [],
   "source": [
    "# from pmdarima.arima import auto_arima\n",
    "\n",
    "# model_auto = auto_arima(train_data, start_p=1, start_q=1,\n",
    "#                       test='adf',\n",
    "#                       max_p=5, max_q=5,\n",
    "#                       m=1,             \n",
    "#                       d=1,          \n",
    "#                       seasonal=False,   \n",
    "#                       start_P=0, \n",
    "#                       D=None, \n",
    "#                       trace=True,\n",
    "#                       error_action='ignore',  \n",
    "#                       suppress_warnings=True, \n",
    "#                       stepwise=True)"
   ]
  },
  {
   "cell_type": "code",
   "execution_count": null,
   "id": "3bc2a470",
   "metadata": {},
   "outputs": [],
   "source": [
    "# model_auto"
   ]
  },
  {
   "cell_type": "code",
   "execution_count": null,
   "id": "592227c7",
   "metadata": {},
   "outputs": [],
   "source": [
    "# model_auto.summary()"
   ]
  },
  {
   "cell_type": "code",
   "execution_count": null,
   "id": "86755894",
   "metadata": {},
   "outputs": [],
   "source": [
    "# forecast_test_auto = model_auto.predict(n_periods=len(test_data))\n",
    "# df['forecast_auto'] = [None]*len(train_data) + list(forecast_test_auto)\n",
    "\n",
    "# df.plot()"
   ]
  },
  {
   "cell_type": "code",
   "execution_count": null,
   "id": "98e5daf3",
   "metadata": {},
   "outputs": [],
   "source": [
    "# df"
   ]
  },
  {
   "cell_type": "code",
   "execution_count": null,
   "id": "c37e6e91",
   "metadata": {},
   "outputs": [],
   "source": [
    "# mae = mean_absolute_error(test_data, forecast_test_auto)\n",
    "# mape = mean_absolute_percentage_error(test_data, forecast_test_auto)\n",
    "# rmse = np.sqrt(mean_squared_error(test_data, forecast_test_auto))\n",
    "\n",
    "# print(f'mae - auto: {mae}')\n",
    "# print(f'mape - auto: {mape}')\n",
    "# print(f'rmse - auto: {rmse}')"
   ]
  },
  {
   "cell_type": "code",
   "execution_count": null,
   "id": "a3172369",
   "metadata": {},
   "outputs": [],
   "source": [
    "# pd.set_option('display.max_rows', None)\n",
    "# pd.set_option('display.max_columns', None)\n",
    "# df.dropna()"
   ]
  }
 ],
 "metadata": {
  "kernelspec": {
   "display_name": "Python 3 (ipykernel)",
   "language": "python",
   "name": "python3"
  },
  "language_info": {
   "codemirror_mode": {
    "name": "ipython",
    "version": 3
   },
   "file_extension": ".py",
   "mimetype": "text/x-python",
   "name": "python",
   "nbconvert_exporter": "python",
   "pygments_lexer": "ipython3",
   "version": "3.11.6"
  },
  "varInspector": {
   "cols": {
    "lenName": 16,
    "lenType": 16,
    "lenVar": 40
   },
   "kernels_config": {
    "python": {
     "delete_cmd_postfix": "",
     "delete_cmd_prefix": "del ",
     "library": "var_list.py",
     "varRefreshCmd": "print(var_dic_list())"
    },
    "r": {
     "delete_cmd_postfix": ") ",
     "delete_cmd_prefix": "rm(",
     "library": "var_list.r",
     "varRefreshCmd": "cat(var_dic_list()) "
    }
   },
   "types_to_exclude": [
    "module",
    "function",
    "builtin_function_or_method",
    "instance",
    "_Feature"
   ],
   "window_display": false
  }
 },
 "nbformat": 4,
 "nbformat_minor": 5
}
